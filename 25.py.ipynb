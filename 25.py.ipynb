{
 "cells": [
  {
   "cell_type": "markdown",
   "id": "45c21ba4",
   "metadata": {},
   "source": [
    "Problem 25 from the advent of code calendar 2022.\n",
    "\n",
    "\n",
    "January 7, 2023"
   ]
  },
  {
   "cell_type": "code",
   "execution_count": 1,
   "id": "c665e3a7",
   "metadata": {},
   "outputs": [],
   "source": [
    "import numpy as np\n",
    "import matplotlib.pyplot as plt\n",
    "import seaborn as sns\n",
    "import pandas as pd"
   ]
  },
  {
   "cell_type": "code",
   "execution_count": 80,
   "id": "7beb9d88",
   "metadata": {},
   "outputs": [],
   "source": [
    "###\n",
    "#  Global stuff from the description\n",
    "###\n",
    "\n",
    "\"\"\"\n",
    "\n",
    "You know, I never did ask the engineers why they did that. Instead \n",
    "of using digits four through zero, \n",
    "\n",
    "the digits are 2, 1, 0, minus (written -), and double-minus (written =). \n",
    "Minus is worth -1, and double-minus is worth -2.\n",
    "\n",
    "\"\"\"\n",
    "\n",
    "digit_translation ={'2': 2, '1': 1, '0':0, '-':-1,'=':-2}\n",
    "reverse_translation = {2:'2', 1:'1', 0:'0', -1:'-',-2:'='}\n",
    "\n",
    "\"\"\"\n",
    "\"You can do it the other direction, too. Say you have the SNAFU number 2=-01. \n",
    "\n",
    "That's 2 in the 625s place, \n",
    "= (double-minus) in the 125s place, \n",
    "- (minus) in the 25s place, \n",
    "0 in the 5s place, \n",
    "and 1 in the 1s place. \n",
    "\n",
    "(2 times 625) plus \n",
    "(-2 times 125) plus \n",
    "(-1 times 25) plus \n",
    "(0 times 5) plus \n",
    "(1 times 1). \n",
    "\n",
    "That's 1250 plus -250 plus -25 plus 0 plus 1. 976!\"\n",
    "\n",
    "\"\"\"\n",
    "\n",
    "BASE = 5"
   ]
  },
  {
   "cell_type": "code",
   "execution_count": 132,
   "id": "a2f1c03f",
   "metadata": {},
   "outputs": [],
   "source": [
    "def snafu_to_decimal(snafu_str):\n",
    "    #Need to reverse the string for place value iteration purposes\n",
    "    rstr = snafu_str[::-1]\n",
    "    total = 0\n",
    "    for place in range(len(rstr)):\n",
    "        total = total + digit_translation[rstr[place]]*BASE**place\n",
    "    return total\n",
    "\n",
    "\n",
    "def reduce(n):    \n",
    "    r = n%BASE\n",
    "    if r > 2:\n",
    "        r = r - BASE\n",
    "    return r, (n - r)/BASE\n",
    "\n",
    "def decimal_to_snafu(n):\n",
    "    coffer = []\n",
    "    remains = n\n",
    "    while remains > 0:\n",
    "        a,b = reduce(remains)\n",
    "        remains = b\n",
    "        coffer.append(a)\n",
    "    #Now we have base 5 coefficients w/ values -2 to 2.  Have to reverse so that\n",
    "    #the smallest place value is on the right\n",
    "    coffer = coffer[::-1]\n",
    "    snafued = ''.join([reverse_translation[int(x)] for x in coffer])\n",
    "    \n",
    "    return snafued\n",
    "\n",
    "    "
   ]
  },
  {
   "cell_type": "code",
   "execution_count": 131,
   "id": "0ceb0751",
   "metadata": {},
   "outputs": [
    {
     "data": {
      "text/plain": [
       "976"
      ]
     },
     "execution_count": 131,
     "metadata": {},
     "output_type": "execute_result"
    }
   ],
   "source": [
    "test = '2=-01'\n",
    "\n",
    "snafu_to_decimal(test)"
   ]
  },
  {
   "cell_type": "code",
   "execution_count": 138,
   "id": "8849093e",
   "metadata": {},
   "outputs": [
    {
     "name": "stdout",
     "output_type": "stream",
     "text": [
      "Decimal: 0, \t\t SNAFU:  \t\t Transfered back to decimal: 0\n",
      "Decimal: 1, \t\t SNAFU: 1 \t\t Transfered back to decimal: 1\n",
      "Decimal: 2, \t\t SNAFU: 2 \t\t Transfered back to decimal: 2\n",
      "Decimal: 3, \t\t SNAFU: 1= \t\t Transfered back to decimal: 3\n",
      "Decimal: 4, \t\t SNAFU: 1- \t\t Transfered back to decimal: 4\n",
      "Decimal: 5, \t\t SNAFU: 10 \t\t Transfered back to decimal: 5\n",
      "Decimal: 6, \t\t SNAFU: 11 \t\t Transfered back to decimal: 6\n",
      "Decimal: 7, \t\t SNAFU: 12 \t\t Transfered back to decimal: 7\n",
      "Decimal: 8, \t\t SNAFU: 2= \t\t Transfered back to decimal: 8\n",
      "Decimal: 9, \t\t SNAFU: 2- \t\t Transfered back to decimal: 9\n",
      "Decimal: 10, \t\t SNAFU: 20 \t\t Transfered back to decimal: 10\n",
      "Decimal: 11, \t\t SNAFU: 21 \t\t Transfered back to decimal: 11\n",
      "Decimal: 12, \t\t SNAFU: 22 \t\t Transfered back to decimal: 12\n",
      "Decimal: 13, \t\t SNAFU: 1== \t\t Transfered back to decimal: 13\n",
      "Decimal: 14, \t\t SNAFU: 1=- \t\t Transfered back to decimal: 14\n",
      "Decimal: 15, \t\t SNAFU: 1=0 \t\t Transfered back to decimal: 15\n",
      "Decimal: 16, \t\t SNAFU: 1=1 \t\t Transfered back to decimal: 16\n",
      "Decimal: 17, \t\t SNAFU: 1=2 \t\t Transfered back to decimal: 17\n",
      "Decimal: 18, \t\t SNAFU: 1-= \t\t Transfered back to decimal: 18\n",
      "Decimal: 19, \t\t SNAFU: 1-- \t\t Transfered back to decimal: 19\n",
      "Decimal: 2022, \t\t SNAFU: 1=11-2 \t\t Transfered back to decimal: 2022\n",
      "Decimal: 12345, \t\t SNAFU: 1-0---0 \t\t Transfered back to decimal: 12345\n",
      "Decimal: 314159265, \t\t SNAFU: 1121-1110-1=0 \t\t Transfered back to decimal: 314159265\n"
     ]
    }
   ],
   "source": [
    "test_set = list(range(20))\n",
    "test_set = test_set + [2022, 12345, 314159265]\n",
    "for i in test_set:\n",
    "    print(\"Decimal: {}, \\t\\t SNAFU: {} \\t\\t Transfered back to decimal: {}\".format(i,decimal_to_snafu(i),snafu_to_decimal(decimal_to_snafu(i))))"
   ]
  },
  {
   "cell_type": "code",
   "execution_count": null,
   "id": "e96329c7",
   "metadata": {},
   "outputs": [],
   "source": []
  },
  {
   "cell_type": "code",
   "execution_count": null,
   "id": "69bbaafe",
   "metadata": {},
   "outputs": [],
   "source": []
  }
 ],
 "metadata": {
  "kernelspec": {
   "display_name": "Python 3 (ipykernel)",
   "language": "python",
   "name": "python3"
  },
  "language_info": {
   "codemirror_mode": {
    "name": "ipython",
    "version": 3
   },
   "file_extension": ".py",
   "mimetype": "text/x-python",
   "name": "python",
   "nbconvert_exporter": "python",
   "pygments_lexer": "ipython3",
   "version": "3.8.2"
  }
 },
 "nbformat": 4,
 "nbformat_minor": 5
}
