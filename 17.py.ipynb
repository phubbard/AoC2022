{
 "cells": [
  {
   "cell_type": "markdown",
   "id": "2c4178a6",
   "metadata": {},
   "source": [
    "Problem 17 from the advent of code calendar 2022.\n",
    "\n",
    "December 31, 2022"
   ]
  },
  {
   "cell_type": "code",
   "execution_count": 1,
   "id": "0ffebbc6",
   "metadata": {},
   "outputs": [],
   "source": [
    "import numpy as np\n",
    "import matplotlib.pyplot as plt\n",
    "import seaborn as sns\n",
    "import pandas as pd\n",
    "\n",
    "np.set_printoptions(linewidth=250)\n"
   ]
  },
  {
   "cell_type": "code",
   "execution_count": 2,
   "id": "2732560f",
   "metadata": {},
   "outputs": [],
   "source": [
    "#Global variables\n",
    "\n",
    "WELL_WIDTH = 7\n",
    "ROCK_HEIGHT = 4\n",
    "ROCK_ADD_HEIGHT = 3\n",
    "MAX_ROCKS = 2022\n",
    "\n",
    "ROCK1 = np.array([[0,0,1,1,1,1,0],\n",
    "                  [0,0,0,0,0,0,0],\n",
    "                  [0,0,0,0,0,0,0],\n",
    "                  [0,0,0,0,0,0,0]])\n",
    "\n",
    "ROCK2 = np.array([[0,0,0,1,0,0,0],\n",
    "                  [0,0,1,1,1,0,0],\n",
    "                  [0,0,0,1,0,0,0],\n",
    "                  [0,0,0,0,0,0,0]])\n",
    "\n",
    "ROCK3 = np.array([[0,0,1,1,1,0,0],\n",
    "                  [0,0,0,0,1,0,0],\n",
    "                  [0,0,0,0,1,0,0],\n",
    "                  [0,0,0,0,0,0,0]])\n",
    "\n",
    "ROCK4 = np.array([[0,0,1,0,0,0,0],\n",
    "                  [0,0,1,0,0,0,0],\n",
    "                  [0,0,1,0,0,0,0],\n",
    "                  [0,0,1,0,0,0,0]])\n",
    "\n",
    "ROCK5 = np.array([[0,0,1,1,0,0,0],\n",
    "                  [0,0,1,1,0,0,0],\n",
    "                  [0,0,0,0,0,0,0],\n",
    "                  [0,0,0,0,0,0,0]])\n",
    "\n",
    "\n",
    "\n",
    "BASIC_ROCKS = [ROCK1,ROCK2,ROCK3,ROCK4,ROCK5] \n",
    "    \n"
   ]
  },
  {
   "cell_type": "markdown",
   "id": "b2ef3873",
   "metadata": {},
   "source": [
    "**IMPORTANT!**\n",
    "\n",
    "We are going to let the first array index represent HEIGHT.  The second array index will be associated with the column, aka where in the width something might be."
   ]
  },
  {
   "cell_type": "code",
   "execution_count": 3,
   "id": "08c7ebbb",
   "metadata": {},
   "outputs": [],
   "source": [
    "\n",
    "\n",
    "def plot_helper(grid, reverse = True):\n",
    "    \"\"\"\n",
    "    Basically making imshow behave.  sigh.  The best method was to replace imshow with Seaborn.\n",
    "    \n",
    "    This function is for looking at what is going on.  Basically a visual helper for chasing down \n",
    "    indexing errors.\n",
    "    \"\"\"\n",
    "    \n",
    "    ax = sns.heatmap(grid, square=True, linewidths=.05, cbar = False,cmap=\"crest\" )\n",
    "    if reverse:\n",
    "        ax.invert_yaxis()\n",
    "    plt.show()\n",
    "\n",
    "    \n",
    "    \n",
    "    \n",
    "class Jets():\n",
    "    \n",
    "    jets = ''\n",
    "    pos = 0\n",
    "    \n",
    "    def __init__(self,jet_str):\n",
    "        \n",
    "        self.jets = jet_str\n",
    "        self.pos = 0\n",
    "        assert len(self.jets) > 0\n",
    "\n",
    "    def __repr__(self):\n",
    "        return self.jets\n",
    "        \n",
    "    def get_next_jet(self):\n",
    "        \n",
    "        rval = self.jets[self.pos]\n",
    "        self.pos = (self.pos + 1)%len(self.jets)\n",
    "        return rval\n",
    "    \n",
    "    def look_ahead(self):\n",
    "        return self.jets[self.pos]\n",
    "    \n",
    "\n",
    "\n",
    "    \n",
    "\n",
    "    \n",
    "class Rock():\n",
    "    \n",
    "    width = WELL_WIDTH\n",
    "    height = ROCK_HEIGHT\n",
    "    cur_position = None\n",
    "    rock_num = None\n",
    "    \n",
    "    def __init__(self,rock_num):\n",
    "        \n",
    "        self.rock_num = (rock_num - 1)%len(BASIC_ROCKS) + 1\n",
    "        self.rock = BASIC_ROCKS[self.rock_num -1]\n",
    "        assert self.rock.shape == (self.height,self.width)\n",
    "        \n",
    "    def __repr__(self):\n",
    "        return '{}'.format(self.rock)\n",
    "    \n",
    "    def plot(self, reverse = True):\n",
    "        plot_helper(self.rock,reverse=reverse)\n",
    "    \n",
    "    def set_position(self,position):\n",
    "        self.cur_position = position\n",
    "        \n",
    "    def overlap(self,grid):\n",
    "        assert(self.rock.shape == grid.shape)\n",
    "        if (self.rock + grid).max() > 1:\n",
    "            return True\n",
    "        else:\n",
    "            return False\n",
    "    \n",
    "    def next_grid(self,jet):\n",
    "        \"\"\" Note the jet here is a simply string.  This does not call a jet class.\n",
    "        \"\"\"\n",
    "        ng = self.rock\n",
    "        if jet == '>':\n",
    "            #Check that the last column is all zeros so have room to move over\n",
    "            if self.rock[:,-1].max() == 0:\n",
    "                ng = np.roll(self.rock,1,axis = 1)\n",
    "        elif jet == '<':\n",
    "            if self.rock[:,0].max() == 0:\n",
    "                ng = np.roll(self.rock,-1,axis = 1)\n",
    "        else:\n",
    "            print(\"WARNING! Invalid jet {}\".format(jet))\n",
    "        return ng\n",
    "        \n",
    "    def apply_jet(self,jet):\n",
    "        self.rock = self.next_grid(jet)\n",
    "        \n",
    "        \n",
    "        \n",
    "        \n",
    "    \n",
    "        \n",
    "class Chamber():\n",
    "    \n",
    "    width = WELL_WIDTH\n",
    "    height = MAX_ROCKS*ROCK_HEIGHT\n",
    "    reset_height = 6000\n",
    "    reset_trigger = reset_height + 1000  #estimating that 1000 rows is enough to stop any future block\n",
    "    logging = False\n",
    "    log = []\n",
    "    \n",
    "    def __init__(self, logging = False):\n",
    "        \n",
    "        self.grid = np.zeros((self.height,self.width))\n",
    "        self.bottom_index = 0    #This is the lowest index where there are no rock fragments\n",
    "        self.reset_count = 0   #This is the number of times that we've gone \n",
    "        self.logging = logging\n",
    "        self.log = []\n",
    "    \n",
    "    def __repr__(self):\n",
    "        top = min(self.height,self.bottom_index + ROCK_HEIGHT)\n",
    "        return '{}'.format(self.grid[:top,:])\n",
    "    \n",
    "    def plot(self, reverse = True):\n",
    "        top = min(self.height,self.bottom_index + ROCK_HEIGHT)\n",
    "        plot_helper(self.grid[:top,:],reverse = reverse)\n",
    "\n",
    "    def flush_grid(self):\n",
    "        if self.bottom_index > self.reset_trigger:\n",
    "            self.reset_count = self.reset_count + 1\n",
    "            new_grid = self.grid[self.reset_height:]\n",
    "            new_grid = np.append(new_grid, np.zeros((self.height - new_grid.shape[0],self.width)), axis=0)\n",
    "            #print(\"Old grid shape {}  New grid shape {}\".format(self.grid.shape,new_grid.shape))\n",
    "            self.grid = new_grid\n",
    "            self.bottom_index = self.bottom_index - self.reset_height\n",
    "            \n",
    "    def get_rock_height(self):\n",
    "        return self.bottom_index + self.reset_count*self.reset_height\n",
    "    \n",
    "    \n",
    "    def add_rock(self,rock,jets, plots = False):\n",
    "        \n",
    "        def plot_process():\n",
    "            ctop = min(self.height,self.bottom_index + ROCK_HEIGHT+ROCK_ADD_HEIGHT)\n",
    "            composite = self.grid[:ctop,:].copy()\n",
    "            composite[rock.cur_position:rock.cur_position+rock.height] += 2*rock.rock\n",
    "            plot_helper(composite)\n",
    "                   \n",
    "        rock.set_position(self.bottom_index + ROCK_ADD_HEIGHT)  #Set position on incoming rock\n",
    "        start_pos = rock.cur_position\n",
    "        if plots:\n",
    "            print(\"Initial appearance\")\n",
    "            plot_process()\n",
    "        \n",
    "        \n",
    "        keep_going = True\n",
    "        while keep_going:\n",
    "            nj = jets.get_next_jet()\n",
    "            pg = rock.next_grid(nj).copy()  #Get the grid that would result from a jet shift\n",
    "            pg = pg + self.grid[rock.cur_position:rock.cur_position + rock.height,:]  #Add it to grid at the current rock position\n",
    "            \n",
    "            if pg.max()< 2:  #If there are no overlaps, apply the jet\n",
    "                rock.apply_jet(nj) #Apply the jet\n",
    "                ja = 'Jet applied'\n",
    "            else:\n",
    "                ja = 'Jet unable to move rock'\n",
    "            \n",
    "            #Next up see if the rock can fall.  If it can, let it fall.           \n",
    "            if rock.cur_position == 0:\n",
    "                keep_going = False\n",
    "                ma = \"Bottomed out, no more jets\"\n",
    "                if self.reset_count > 0:\n",
    "                    print(\"WARNING!!!! Bottomed out in after a flush has occured.  Increase reset trigger delta.  COMPUTATION IS WRONG!!!\")\n",
    "            elif rock.overlap(self.grid[rock.cur_position-1:rock.cur_position-1 + rock.height,:]): #Overlap is true\n",
    "                keep_going = False\n",
    "                ma = 'Hit a rock, no more moving down'\n",
    "            else:\n",
    "                rock.cur_position = rock.cur_position - 1\n",
    "                ma = 'Rock now at current position {}'.format(rock.cur_position)\n",
    "                \n",
    "            if plots:\n",
    "                print('{}  and {}'.format(ja,ma))\n",
    "                plot_process()\n",
    "        \n",
    "        \n",
    "        #Figure out where the rock ended up and log it if logging is enabled\n",
    "        if self.logging:\n",
    "            fall = start_pos - rock.cur_position \n",
    "            ypos = np.where(rock.rock.sum(axis = 0)>0)[0][0]\n",
    "            self.log.append([self.get_rock_height(),rock.cur_position,rock.rock_num,ypos,fall])\n",
    "            \n",
    "            \n",
    "        #Add the final rock grid to the grid\n",
    "        self.grid[rock.cur_position:rock.cur_position + rock.height,:] += rock.rock\n",
    "        #Update the new bottom index\n",
    "        while self.grid[self.bottom_index].sum() > 0:\n",
    "            self.bottom_index = self.bottom_index + 1\n",
    "        #Flush grid if needed\n",
    "        self.flush_grid()\n",
    "        if plots:   \n",
    "            print(\"New bottom index is {}\".format(self.bottom_index))\n",
    "        \n",
    "        assert self.grid.max() < 2\n",
    "        if plots:\n",
    "            self.plot()\n",
    "        \n",
    "        return None\n",
    "        \n",
    "            \n",
    "    "
   ]
  },
  {
   "cell_type": "code",
   "execution_count": 4,
   "id": "96890db4",
   "metadata": {},
   "outputs": [
    {
     "name": "stdout",
     "output_type": "stream",
     "text": [
      "Initial appearance\n"
     ]
    },
    {
     "data": {
      "image/png": "[encoded data removed]",
      "text/plain": [
       "<Figure size 432x288 with 1 Axes>"
      ]
     },
     "metadata": {
      "needs_background": "light"
     },
     "output_type": "display_data"
    },
    {
     "name": "stdout",
     "output_type": "stream",
     "text": [
      "Jet applied  and Rock now at current position 2\n"
     ]
    },
    {
     "data": {
      "image/png": "[encoded data removed]",
      "text/plain": [
       "<Figure size 432x288 with 1 Axes>"
      ]
     },
     "metadata": {
      "needs_background": "light"
     },
     "output_type": "display_data"
    },
    {
     "name": "stdout",
     "output_type": "stream",
     "text": [
      "Jet applied  and Rock now at current position 1\n"
     ]
    },
    {
     "data": {
      "image/png": "[encoded data removed]",
      "text/plain": [
       "<Figure size 432x288 with 1 Axes>"
      ]
     },
     "metadata": {
      "needs_background": "light"
     },
     "output_type": "display_data"
    },
    {
     "name": "stdout",
     "output_type": "stream",
     "text": [
      "Jet applied  and Rock now at current position 0\n"
     ]
    },
    {
     "data": {
      "image/png": "[encoded data removed]",
      "text/plain": [
       "<Figure size 432x288 with 1 Axes>"
      ]
     },
     "metadata": {
      "needs_background": "light"
     },
     "output_type": "display_data"
    },
    {
     "name": "stdout",
     "output_type": "stream",
     "text": [
      "Jet applied  and Bottomed out, no more jets\n"
     ]
    },
    {
     "data": {
      "image/png": "[encoded data removed]",
      "text/plain": [
       "<Figure size 432x288 with 1 Axes>"
      ]
     },
     "metadata": {
      "needs_background": "light"
     },
     "output_type": "display_data"
    },
    {
     "name": "stdout",
     "output_type": "stream",
     "text": [
      "New bottom index is 1\n"
     ]
    },
    {
     "data": {
      "image/png": "[encoded data removed]",
      "text/plain": [
       "<Figure size 432x288 with 1 Axes>"
      ]
     },
     "metadata": {
      "needs_background": "light"
     },
     "output_type": "display_data"
    },
    {
     "name": "stdout",
     "output_type": "stream",
     "text": [
      "Initial appearance\n"
     ]
    },
    {
     "data": {
      "image/png": "[encoded data removed]",
      "text/plain": [
       "<Figure size 432x288 with 1 Axes>"
      ]
     },
     "metadata": {
      "needs_background": "light"
     },
     "output_type": "display_data"
    },
    {
     "name": "stdout",
     "output_type": "stream",
     "text": [
      "Jet applied  and Rock now at current position 3\n"
     ]
    },
    {
     "data": {
      "image/png": "[encoded data removed]",
      "text/plain": [
       "<Figure size 432x288 with 1 Axes>"
      ]
     },
     "metadata": {
      "needs_background": "light"
     },
     "output_type": "display_data"
    },
    {
     "name": "stdout",
     "output_type": "stream",
     "text": [
      "Jet applied  and Rock now at current position 2\n"
     ]
    },
    {
     "data": {
      "image/png": "[encoded data removed]",
      "text/plain": [
       "<Figure size 432x288 with 1 Axes>"
      ]
     },
     "metadata": {
      "needs_background": "light"
     },
     "output_type": "display_data"
    },
    {
     "name": "stdout",
     "output_type": "stream",
     "text": [
      "Jet applied  and Rock now at current position 1\n"
     ]
    },
    {
     "data": {
      "image/png": "[encoded data removed]",
      "text/plain": [
       "<Figure size 432x288 with 1 Axes>"
      ]
     },
     "metadata": {
      "needs_background": "light"
     },
     "output_type": "display_data"
    },
    {
     "name": "stdout",
     "output_type": "stream",
     "text": [
      "Jet applied  and Hit a rock, no more moving down\n"
     ]
    },
    {
     "data": {
      "image/png": "[encoded data removed]",
      "text/plain": [
       "<Figure size 432x288 with 1 Axes>"
      ]
     },
     "metadata": {
      "needs_background": "light"
     },
     "output_type": "display_data"
    },
    {
     "name": "stdout",
     "output_type": "stream",
     "text": [
      "New bottom index is 4\n"
     ]
    },
    {
     "data": {
      "image/png": "[encoded data removed]",
      "text/plain": [
       "<Figure size 432x288 with 1 Axes>"
      ]
     },
     "metadata": {
      "needs_background": "light"
     },
     "output_type": "display_data"
    },
    {
     "name": "stdout",
     "output_type": "stream",
     "text": [
      "Initial appearance\n"
     ]
    },
    {
     "data": {
      "image/png": "[encoded data removed]",
      "text/plain": [
       "<Figure size 432x288 with 1 Axes>"
      ]
     },
     "metadata": {
      "needs_background": "light"
     },
     "output_type": "display_data"
    },
    {
     "name": "stdout",
     "output_type": "stream",
     "text": [
      "Jet applied  and Rock now at current position 6\n"
     ]
    },
    {
     "data": {
      "image/png": "[encoded data removed]",
      "text/plain": [
       "<Figure size 432x288 with 1 Axes>"
      ]
     },
     "metadata": {
      "needs_background": "light"
     },
     "output_type": "display_data"
    },
    {
     "name": "stdout",
     "output_type": "stream",
     "text": [
      "Jet applied  and Rock now at current position 5\n"
     ]
    },
    {
     "data": {
      "image/png": "[encoded data removed]",
      "text/plain": [
       "<Figure size 432x288 with 1 Axes>"
      ]
     },
     "metadata": {
      "needs_background": "light"
     },
     "output_type": "display_data"
    },
    {
     "name": "stdout",
     "output_type": "stream",
     "text": [
      "Jet applied  and Rock now at current position 4\n"
     ]
    },
    {
     "data": {
      "image/png": "[encoded data removed]",
      "text/plain": [
       "<Figure size 432x288 with 1 Axes>"
      ]
     },
     "metadata": {
      "needs_background": "light"
     },
     "output_type": "display_data"
    },
    {
     "name": "stdout",
     "output_type": "stream",
     "text": [
      "Jet applied  and Rock now at current position 3\n"
     ]
    },
    {
     "data": {
      "image/png": "[encoded data removed]",
      "text/plain": [
       "<Figure size 432x288 with 1 Axes>"
      ]
     },
     "metadata": {
      "needs_background": "light"
     },
     "output_type": "display_data"
    },
    {
     "name": "stdout",
     "output_type": "stream",
     "text": [
      "Jet unable to move rock  and Hit a rock, no more moving down\n"
     ]
    },
    {
     "data": {
      "image/png": "[encoded data removed]",
      "text/plain": [
       "<Figure size 432x288 with 1 Axes>"
      ]
     },
     "metadata": {
      "needs_background": "light"
     },
     "output_type": "display_data"
    },
    {
     "name": "stdout",
     "output_type": "stream",
     "text": [
      "New bottom index is 6\n"
     ]
    },
    {
     "data": {
      "image/png": "[encoded data removed]",
      "text/plain": [
       "<Figure size 432x288 with 1 Axes>"
      ]
     },
     "metadata": {
      "needs_background": "light"
     },
     "output_type": "display_data"
    },
    {
     "data": {
      "image/png": "[encoded data removed]",
      "text/plain": [
       "<Figure size 432x288 with 1 Axes>"
      ]
     },
     "metadata": {
      "needs_background": "light"
     },
     "output_type": "display_data"
    },
    {
     "data": {
      "image/png": "[encoded data removed]",
      "text/plain": [
       "<Figure size 432x288 with 1 Axes>"
      ]
     },
     "metadata": {
      "needs_background": "light"
     },
     "output_type": "display_data"
    },
    {
     "data": {
      "image/png": "[encoded data removed]",
      "text/plain": [
       "<Figure size 432x288 with 1 Axes>"
      ]
     },
     "metadata": {
      "needs_background": "light"
     },
     "output_type": "display_data"
    },
    {
     "data": {
      "image/png": "[encoded data removed]",
      "text/plain": [
       "<Figure size 432x288 with 1 Axes>"
      ]
     },
     "metadata": {
      "needs_background": "light"
     },
     "output_type": "display_data"
    },
    {
     "data": {
      "image/png": "[encoded data removed]",
      "text/plain": [
       "<Figure size 432x288 with 1 Axes>"
      ]
     },
     "metadata": {
      "needs_background": "light"
     },
     "output_type": "display_data"
    },
    {
     "data": {
      "image/png": "[encoded data removed]",
      "text/plain": [
       "<Figure size 432x288 with 1 Axes>"
      ]
     },
     "metadata": {
      "needs_background": "light"
     },
     "output_type": "display_data"
    },
    {
     "data": {
      "image/png": "[encoded data removed]",
      "text/plain": [
       "<Figure size 432x288 with 1 Axes>"
      ]
     },
     "metadata": {
      "needs_background": "light"
     },
     "output_type": "display_data"
    }
   ],
   "source": [
    "r = Chamber(logging = True)\n",
    "sample_jets = Jets('>>><<><>><<<>><>>><<<>>><<<><<<>><>><<>>')\n",
    "\n",
    "for i in range(1,4):\n",
    "    r.add_rock(Rock(i),sample_jets,plots = True)\n",
    "\n",
    "for i in range(4,11):\n",
    "    r.add_rock(Rock(i),sample_jets,plots = False)\n",
    "    r.plot()"
   ]
  },
  {
   "cell_type": "code",
   "execution_count": 5,
   "id": "ecde076a",
   "metadata": {},
   "outputs": [
    {
     "data": {
      "text/plain": [
       "[[0, 0, 1, 2, 3],\n",
       " [1, 1, 2, 2, 3],\n",
       " [4, 3, 3, 0, 4],\n",
       " [6, 3, 4, 4, 6],\n",
       " [7, 7, 5, 4, 3],\n",
       " [9, 9, 1, 1, 3],\n",
       " [10, 10, 2, 1, 3],\n",
       " [13, 12, 3, 3, 4],\n",
       " [15, 13, 4, 4, 5],\n",
       " [17, 12, 5, 0, 8]]"
      ]
     },
     "execution_count": 5,
     "metadata": {},
     "output_type": "execute_result"
    }
   ],
   "source": [
    "r.log"
   ]
  },
  {
   "cell_type": "code",
   "execution_count": 6,
   "id": "65b458b7",
   "metadata": {},
   "outputs": [],
   "source": [
    "example = Chamber(logging=True)\n",
    "example_jets = Jets('>>><<><>><<<>><>>><<<>>><<<><<<>><>><<>>')\n",
    "\n",
    "for i in range(1,2023):\n",
    "    example.add_rock(Rock(i),example_jets,plots = False)"
   ]
  },
  {
   "cell_type": "code",
   "execution_count": 7,
   "id": "87800a95",
   "metadata": {},
   "outputs": [
    {
     "data": {
      "text/plain": [
       "3068"
      ]
     },
     "execution_count": 7,
     "metadata": {},
     "output_type": "execute_result"
    }
   ],
   "source": [
    "example.bottom_index + example.reset_count*example.reset_height"
   ]
  },
  {
   "cell_type": "code",
   "execution_count": 8,
   "id": "732a371b",
   "metadata": {},
   "outputs": [],
   "source": [
    "l = np.array(example.log)\n",
    "ldf = pd.DataFrame(l,columns = ['bottom_index','rock_position','rock_number','yloc','fall'])\n",
    "ldf['num_jets'] = ldf.fall + 1\n",
    "ldf['ending_jet_num'] = ldf.num_jets.cumsum()%len(example_jets.jets)"
   ]
  },
  {
   "cell_type": "code",
   "execution_count": 9,
   "id": "557e5ef2",
   "metadata": {},
   "outputs": [
    {
     "data": {
      "text/html": [
       "<div>\n",
       "<style scoped>\n",
       "    .dataframe tbody tr th:only-of-type {\n",
       "        vertical-align: middle;\n",
       "    }\n",
       "\n",
       "    .dataframe tbody tr th {\n",
       "        vertical-align: top;\n",
       "    }\n",
       "\n",
       "    .dataframe thead th {\n",
       "        text-align: right;\n",
       "    }\n",
       "</style>\n",
       "<table border=\"1\" class=\"dataframe\">\n",
       "  <thead>\n",
       "    <tr style=\"text-align: right;\">\n",
       "      <th></th>\n",
       "      <th>bottom_index</th>\n",
       "      <th>rock_position</th>\n",
       "      <th>rock_number</th>\n",
       "      <th>yloc</th>\n",
       "      <th>fall</th>\n",
       "      <th>num_jets</th>\n",
       "      <th>ending_jet_num</th>\n",
       "    </tr>\n",
       "  </thead>\n",
       "  <tbody>\n",
       "    <tr>\n",
       "      <th>0</th>\n",
       "      <td>0</td>\n",
       "      <td>0</td>\n",
       "      <td>1</td>\n",
       "      <td>2</td>\n",
       "      <td>3</td>\n",
       "      <td>4</td>\n",
       "      <td>4</td>\n",
       "    </tr>\n",
       "  </tbody>\n",
       "</table>\n",
       "</div>"
      ],
      "text/plain": [
       "   bottom_index  rock_position  rock_number  yloc  fall  num_jets  \\\n",
       "0             0              0            1     2     3         4   \n",
       "\n",
       "   ending_jet_num  \n",
       "0               4  "
      ]
     },
     "execution_count": 9,
     "metadata": {},
     "output_type": "execute_result"
    }
   ],
   "source": [
    "ldf[ldf.ending_jet_num == 4].head(10)"
   ]
  },
  {
   "cell_type": "markdown",
   "id": "8583db1a",
   "metadata": {},
   "source": [
    "So it looks like the description example may be repeating every 105 blocks.  To confirm this should look at the following"
   ]
  },
  {
   "cell_type": "code",
   "execution_count": 10,
   "id": "5af01a8b",
   "metadata": {},
   "outputs": [
    {
     "name": "stdout",
     "output_type": "stream",
     "text": [
      "53 0.0 1.0\n",
      "106 0.0 2.0\n",
      "159 0.0 3.0\n",
      "212 0.0 4.0\n",
      "265 0.0 5.0\n",
      "318 0.0 6.0\n",
      "371 0.0 7.0\n",
      "424 0.0 8.0\n",
      "477 0.0 9.0\n",
      "530 0.0 10.0\n",
      "583 0.0 11.0\n",
      "636 0.0 12.0\n",
      "689 0.0 13.0\n",
      "742 0.0 14.0\n",
      "795 0.0 15.0\n",
      "848 0.0 16.0\n",
      "901 0.0 17.0\n",
      "954 0.0 18.0\n"
     ]
    }
   ],
   "source": [
    "offset = 30\n",
    "for i in range(10,1000):\n",
    "    gdiff = np.abs(example.grid[offset:offset+i] - example.grid[offset+i:offset+2*i])\n",
    "    if gdiff.max() < 1:\n",
    "        print(i,gdiff.max(),i/53)"
   ]
  },
  {
   "cell_type": "markdown",
   "id": "63c7d0a7",
   "metadata": {},
   "source": [
    "So it looks like there is a repeat every 53 rows of the grid.  The question then is what does that represent in terms of rocks."
   ]
  },
  {
   "cell_type": "code",
   "execution_count": 11,
   "id": "b93baed2",
   "metadata": {},
   "outputs": [
    {
     "data": {
      "text/html": [
       "<div>\n",
       "<style scoped>\n",
       "    .dataframe tbody tr th:only-of-type {\n",
       "        vertical-align: middle;\n",
       "    }\n",
       "\n",
       "    .dataframe tbody tr th {\n",
       "        vertical-align: top;\n",
       "    }\n",
       "\n",
       "    .dataframe thead th {\n",
       "        text-align: right;\n",
       "    }\n",
       "</style>\n",
       "<table border=\"1\" class=\"dataframe\">\n",
       "  <thead>\n",
       "    <tr style=\"text-align: right;\">\n",
       "      <th></th>\n",
       "      <th>bottom_index</th>\n",
       "      <th>rock_position</th>\n",
       "      <th>rock_number</th>\n",
       "      <th>yloc</th>\n",
       "      <th>fall</th>\n",
       "      <th>num_jets</th>\n",
       "      <th>ending_jet_num</th>\n",
       "    </tr>\n",
       "  </thead>\n",
       "  <tbody>\n",
       "    <tr>\n",
       "      <th>20</th>\n",
       "      <td>36</td>\n",
       "      <td>36</td>\n",
       "      <td>1</td>\n",
       "      <td>1</td>\n",
       "      <td>3</td>\n",
       "      <td>4</td>\n",
       "      <td>32</td>\n",
       "    </tr>\n",
       "    <tr>\n",
       "      <th>21</th>\n",
       "      <td>37</td>\n",
       "      <td>36</td>\n",
       "      <td>2</td>\n",
       "      <td>4</td>\n",
       "      <td>4</td>\n",
       "      <td>5</td>\n",
       "      <td>37</td>\n",
       "    </tr>\n",
       "    <tr>\n",
       "      <th>22</th>\n",
       "      <td>39</td>\n",
       "      <td>39</td>\n",
       "      <td>3</td>\n",
       "      <td>4</td>\n",
       "      <td>3</td>\n",
       "      <td>4</td>\n",
       "      <td>1</td>\n",
       "    </tr>\n",
       "    <tr>\n",
       "      <th>23</th>\n",
       "      <td>42</td>\n",
       "      <td>37</td>\n",
       "      <td>4</td>\n",
       "      <td>2</td>\n",
       "      <td>8</td>\n",
       "      <td>9</td>\n",
       "      <td>10</td>\n",
       "    </tr>\n",
       "    <tr>\n",
       "      <th>24</th>\n",
       "      <td>42</td>\n",
       "      <td>41</td>\n",
       "      <td>5</td>\n",
       "      <td>1</td>\n",
       "      <td>4</td>\n",
       "      <td>5</td>\n",
       "      <td>15</td>\n",
       "    </tr>\n",
       "    <tr>\n",
       "      <th>25</th>\n",
       "      <td>43</td>\n",
       "      <td>43</td>\n",
       "      <td>1</td>\n",
       "      <td>2</td>\n",
       "      <td>3</td>\n",
       "      <td>4</td>\n",
       "      <td>19</td>\n",
       "    </tr>\n",
       "    <tr>\n",
       "      <th>26</th>\n",
       "      <td>44</td>\n",
       "      <td>44</td>\n",
       "      <td>2</td>\n",
       "      <td>2</td>\n",
       "      <td>3</td>\n",
       "      <td>4</td>\n",
       "      <td>23</td>\n",
       "    </tr>\n",
       "    <tr>\n",
       "      <th>27</th>\n",
       "      <td>47</td>\n",
       "      <td>46</td>\n",
       "      <td>3</td>\n",
       "      <td>0</td>\n",
       "      <td>4</td>\n",
       "      <td>5</td>\n",
       "      <td>28</td>\n",
       "    </tr>\n",
       "    <tr>\n",
       "      <th>28</th>\n",
       "      <td>49</td>\n",
       "      <td>47</td>\n",
       "      <td>4</td>\n",
       "      <td>0</td>\n",
       "      <td>5</td>\n",
       "      <td>6</td>\n",
       "      <td>34</td>\n",
       "    </tr>\n",
       "    <tr>\n",
       "      <th>29</th>\n",
       "      <td>51</td>\n",
       "      <td>44</td>\n",
       "      <td>5</td>\n",
       "      <td>5</td>\n",
       "      <td>10</td>\n",
       "      <td>11</td>\n",
       "      <td>5</td>\n",
       "    </tr>\n",
       "    <tr>\n",
       "      <th>30</th>\n",
       "      <td>51</td>\n",
       "      <td>49</td>\n",
       "      <td>1</td>\n",
       "      <td>1</td>\n",
       "      <td>5</td>\n",
       "      <td>6</td>\n",
       "      <td>11</td>\n",
       "    </tr>\n",
       "    <tr>\n",
       "      <th>31</th>\n",
       "      <td>51</td>\n",
       "      <td>50</td>\n",
       "      <td>2</td>\n",
       "      <td>3</td>\n",
       "      <td>4</td>\n",
       "      <td>5</td>\n",
       "      <td>16</td>\n",
       "    </tr>\n",
       "    <tr>\n",
       "      <th>32</th>\n",
       "      <td>53</td>\n",
       "      <td>53</td>\n",
       "      <td>3</td>\n",
       "      <td>2</td>\n",
       "      <td>3</td>\n",
       "      <td>4</td>\n",
       "      <td>20</td>\n",
       "    </tr>\n",
       "    <tr>\n",
       "      <th>33</th>\n",
       "      <td>56</td>\n",
       "      <td>56</td>\n",
       "      <td>4</td>\n",
       "      <td>4</td>\n",
       "      <td>3</td>\n",
       "      <td>4</td>\n",
       "      <td>24</td>\n",
       "    </tr>\n",
       "    <tr>\n",
       "      <th>34</th>\n",
       "      <td>60</td>\n",
       "      <td>54</td>\n",
       "      <td>5</td>\n",
       "      <td>1</td>\n",
       "      <td>9</td>\n",
       "      <td>10</td>\n",
       "      <td>34</td>\n",
       "    </tr>\n",
       "    <tr>\n",
       "      <th>35</th>\n",
       "      <td>60</td>\n",
       "      <td>60</td>\n",
       "      <td>1</td>\n",
       "      <td>1</td>\n",
       "      <td>3</td>\n",
       "      <td>4</td>\n",
       "      <td>38</td>\n",
       "    </tr>\n",
       "    <tr>\n",
       "      <th>36</th>\n",
       "      <td>61</td>\n",
       "      <td>60</td>\n",
       "      <td>2</td>\n",
       "      <td>4</td>\n",
       "      <td>4</td>\n",
       "      <td>5</td>\n",
       "      <td>3</td>\n",
       "    </tr>\n",
       "    <tr>\n",
       "      <th>37</th>\n",
       "      <td>63</td>\n",
       "      <td>61</td>\n",
       "      <td>3</td>\n",
       "      <td>1</td>\n",
       "      <td>5</td>\n",
       "      <td>6</td>\n",
       "      <td>9</td>\n",
       "    </tr>\n",
       "    <tr>\n",
       "      <th>38</th>\n",
       "      <td>64</td>\n",
       "      <td>62</td>\n",
       "      <td>4</td>\n",
       "      <td>1</td>\n",
       "      <td>5</td>\n",
       "      <td>6</td>\n",
       "      <td>15</td>\n",
       "    </tr>\n",
       "    <tr>\n",
       "      <th>39</th>\n",
       "      <td>66</td>\n",
       "      <td>64</td>\n",
       "      <td>5</td>\n",
       "      <td>2</td>\n",
       "      <td>5</td>\n",
       "      <td>6</td>\n",
       "      <td>21</td>\n",
       "    </tr>\n",
       "    <tr>\n",
       "      <th>40</th>\n",
       "      <td>66</td>\n",
       "      <td>66</td>\n",
       "      <td>1</td>\n",
       "      <td>2</td>\n",
       "      <td>3</td>\n",
       "      <td>4</td>\n",
       "      <td>25</td>\n",
       "    </tr>\n",
       "    <tr>\n",
       "      <th>41</th>\n",
       "      <td>67</td>\n",
       "      <td>66</td>\n",
       "      <td>2</td>\n",
       "      <td>0</td>\n",
       "      <td>4</td>\n",
       "      <td>5</td>\n",
       "      <td>30</td>\n",
       "    </tr>\n",
       "    <tr>\n",
       "      <th>42</th>\n",
       "      <td>69</td>\n",
       "      <td>67</td>\n",
       "      <td>3</td>\n",
       "      <td>4</td>\n",
       "      <td>5</td>\n",
       "      <td>6</td>\n",
       "      <td>36</td>\n",
       "    </tr>\n",
       "    <tr>\n",
       "      <th>43</th>\n",
       "      <td>70</td>\n",
       "      <td>68</td>\n",
       "      <td>4</td>\n",
       "      <td>4</td>\n",
       "      <td>5</td>\n",
       "      <td>6</td>\n",
       "      <td>2</td>\n",
       "    </tr>\n",
       "    <tr>\n",
       "      <th>44</th>\n",
       "      <td>72</td>\n",
       "      <td>68</td>\n",
       "      <td>5</td>\n",
       "      <td>2</td>\n",
       "      <td>7</td>\n",
       "      <td>8</td>\n",
       "      <td>10</td>\n",
       "    </tr>\n",
       "    <tr>\n",
       "      <th>45</th>\n",
       "      <td>72</td>\n",
       "      <td>72</td>\n",
       "      <td>1</td>\n",
       "      <td>2</td>\n",
       "      <td>3</td>\n",
       "      <td>4</td>\n",
       "      <td>14</td>\n",
       "    </tr>\n",
       "    <tr>\n",
       "      <th>46</th>\n",
       "      <td>73</td>\n",
       "      <td>73</td>\n",
       "      <td>2</td>\n",
       "      <td>4</td>\n",
       "      <td>3</td>\n",
       "      <td>4</td>\n",
       "      <td>18</td>\n",
       "    </tr>\n",
       "    <tr>\n",
       "      <th>47</th>\n",
       "      <td>76</td>\n",
       "      <td>75</td>\n",
       "      <td>3</td>\n",
       "      <td>2</td>\n",
       "      <td>4</td>\n",
       "      <td>5</td>\n",
       "      <td>23</td>\n",
       "    </tr>\n",
       "    <tr>\n",
       "      <th>48</th>\n",
       "      <td>78</td>\n",
       "      <td>69</td>\n",
       "      <td>4</td>\n",
       "      <td>1</td>\n",
       "      <td>12</td>\n",
       "      <td>13</td>\n",
       "      <td>36</td>\n",
       "    </tr>\n",
       "    <tr>\n",
       "      <th>49</th>\n",
       "      <td>78</td>\n",
       "      <td>76</td>\n",
       "      <td>5</td>\n",
       "      <td>2</td>\n",
       "      <td>5</td>\n",
       "      <td>6</td>\n",
       "      <td>2</td>\n",
       "    </tr>\n",
       "    <tr>\n",
       "      <th>50</th>\n",
       "      <td>78</td>\n",
       "      <td>78</td>\n",
       "      <td>1</td>\n",
       "      <td>2</td>\n",
       "      <td>3</td>\n",
       "      <td>4</td>\n",
       "      <td>6</td>\n",
       "    </tr>\n",
       "    <tr>\n",
       "      <th>51</th>\n",
       "      <td>79</td>\n",
       "      <td>79</td>\n",
       "      <td>2</td>\n",
       "      <td>2</td>\n",
       "      <td>3</td>\n",
       "      <td>4</td>\n",
       "      <td>10</td>\n",
       "    </tr>\n",
       "    <tr>\n",
       "      <th>52</th>\n",
       "      <td>82</td>\n",
       "      <td>82</td>\n",
       "      <td>3</td>\n",
       "      <td>2</td>\n",
       "      <td>3</td>\n",
       "      <td>4</td>\n",
       "      <td>14</td>\n",
       "    </tr>\n",
       "    <tr>\n",
       "      <th>53</th>\n",
       "      <td>85</td>\n",
       "      <td>85</td>\n",
       "      <td>4</td>\n",
       "      <td>4</td>\n",
       "      <td>3</td>\n",
       "      <td>4</td>\n",
       "      <td>18</td>\n",
       "    </tr>\n",
       "    <tr>\n",
       "      <th>54</th>\n",
       "      <td>89</td>\n",
       "      <td>83</td>\n",
       "      <td>5</td>\n",
       "      <td>1</td>\n",
       "      <td>9</td>\n",
       "      <td>10</td>\n",
       "      <td>28</td>\n",
       "    </tr>\n",
       "    <tr>\n",
       "      <th>55</th>\n",
       "      <td>89</td>\n",
       "      <td>89</td>\n",
       "      <td>1</td>\n",
       "      <td>1</td>\n",
       "      <td>3</td>\n",
       "      <td>4</td>\n",
       "      <td>32</td>\n",
       "    </tr>\n",
       "    <tr>\n",
       "      <th>56</th>\n",
       "      <td>90</td>\n",
       "      <td>89</td>\n",
       "      <td>2</td>\n",
       "      <td>4</td>\n",
       "      <td>4</td>\n",
       "      <td>5</td>\n",
       "      <td>37</td>\n",
       "    </tr>\n",
       "    <tr>\n",
       "      <th>57</th>\n",
       "      <td>92</td>\n",
       "      <td>92</td>\n",
       "      <td>3</td>\n",
       "      <td>4</td>\n",
       "      <td>3</td>\n",
       "      <td>4</td>\n",
       "      <td>1</td>\n",
       "    </tr>\n",
       "    <tr>\n",
       "      <th>58</th>\n",
       "      <td>95</td>\n",
       "      <td>90</td>\n",
       "      <td>4</td>\n",
       "      <td>2</td>\n",
       "      <td>8</td>\n",
       "      <td>9</td>\n",
       "      <td>10</td>\n",
       "    </tr>\n",
       "    <tr>\n",
       "      <th>59</th>\n",
       "      <td>95</td>\n",
       "      <td>94</td>\n",
       "      <td>5</td>\n",
       "      <td>1</td>\n",
       "      <td>4</td>\n",
       "      <td>5</td>\n",
       "      <td>15</td>\n",
       "    </tr>\n",
       "    <tr>\n",
       "      <th>60</th>\n",
       "      <td>96</td>\n",
       "      <td>96</td>\n",
       "      <td>1</td>\n",
       "      <td>2</td>\n",
       "      <td>3</td>\n",
       "      <td>4</td>\n",
       "      <td>19</td>\n",
       "    </tr>\n",
       "    <tr>\n",
       "      <th>61</th>\n",
       "      <td>97</td>\n",
       "      <td>97</td>\n",
       "      <td>2</td>\n",
       "      <td>2</td>\n",
       "      <td>3</td>\n",
       "      <td>4</td>\n",
       "      <td>23</td>\n",
       "    </tr>\n",
       "    <tr>\n",
       "      <th>62</th>\n",
       "      <td>100</td>\n",
       "      <td>99</td>\n",
       "      <td>3</td>\n",
       "      <td>0</td>\n",
       "      <td>4</td>\n",
       "      <td>5</td>\n",
       "      <td>28</td>\n",
       "    </tr>\n",
       "    <tr>\n",
       "      <th>63</th>\n",
       "      <td>102</td>\n",
       "      <td>100</td>\n",
       "      <td>4</td>\n",
       "      <td>0</td>\n",
       "      <td>5</td>\n",
       "      <td>6</td>\n",
       "      <td>34</td>\n",
       "    </tr>\n",
       "    <tr>\n",
       "      <th>64</th>\n",
       "      <td>104</td>\n",
       "      <td>97</td>\n",
       "      <td>5</td>\n",
       "      <td>5</td>\n",
       "      <td>10</td>\n",
       "      <td>11</td>\n",
       "      <td>5</td>\n",
       "    </tr>\n",
       "    <tr>\n",
       "      <th>65</th>\n",
       "      <td>104</td>\n",
       "      <td>102</td>\n",
       "      <td>1</td>\n",
       "      <td>1</td>\n",
       "      <td>5</td>\n",
       "      <td>6</td>\n",
       "      <td>11</td>\n",
       "    </tr>\n",
       "    <tr>\n",
       "      <th>66</th>\n",
       "      <td>104</td>\n",
       "      <td>103</td>\n",
       "      <td>2</td>\n",
       "      <td>3</td>\n",
       "      <td>4</td>\n",
       "      <td>5</td>\n",
       "      <td>16</td>\n",
       "    </tr>\n",
       "    <tr>\n",
       "      <th>67</th>\n",
       "      <td>106</td>\n",
       "      <td>106</td>\n",
       "      <td>3</td>\n",
       "      <td>2</td>\n",
       "      <td>3</td>\n",
       "      <td>4</td>\n",
       "      <td>20</td>\n",
       "    </tr>\n",
       "    <tr>\n",
       "      <th>68</th>\n",
       "      <td>109</td>\n",
       "      <td>109</td>\n",
       "      <td>4</td>\n",
       "      <td>4</td>\n",
       "      <td>3</td>\n",
       "      <td>4</td>\n",
       "      <td>24</td>\n",
       "    </tr>\n",
       "    <tr>\n",
       "      <th>69</th>\n",
       "      <td>113</td>\n",
       "      <td>107</td>\n",
       "      <td>5</td>\n",
       "      <td>1</td>\n",
       "      <td>9</td>\n",
       "      <td>10</td>\n",
       "      <td>34</td>\n",
       "    </tr>\n",
       "  </tbody>\n",
       "</table>\n",
       "</div>"
      ],
      "text/plain": [
       "    bottom_index  rock_position  rock_number  yloc  fall  num_jets  \\\n",
       "20            36             36            1     1     3         4   \n",
       "21            37             36            2     4     4         5   \n",
       "22            39             39            3     4     3         4   \n",
       "23            42             37            4     2     8         9   \n",
       "24            42             41            5     1     4         5   \n",
       "25            43             43            1     2     3         4   \n",
       "26            44             44            2     2     3         4   \n",
       "27            47             46            3     0     4         5   \n",
       "28            49             47            4     0     5         6   \n",
       "29            51             44            5     5    10        11   \n",
       "30            51             49            1     1     5         6   \n",
       "31            51             50            2     3     4         5   \n",
       "32            53             53            3     2     3         4   \n",
       "33            56             56            4     4     3         4   \n",
       "34            60             54            5     1     9        10   \n",
       "35            60             60            1     1     3         4   \n",
       "36            61             60            2     4     4         5   \n",
       "37            63             61            3     1     5         6   \n",
       "38            64             62            4     1     5         6   \n",
       "39            66             64            5     2     5         6   \n",
       "40            66             66            1     2     3         4   \n",
       "41            67             66            2     0     4         5   \n",
       "42            69             67            3     4     5         6   \n",
       "43            70             68            4     4     5         6   \n",
       "44            72             68            5     2     7         8   \n",
       "45            72             72            1     2     3         4   \n",
       "46            73             73            2     4     3         4   \n",
       "47            76             75            3     2     4         5   \n",
       "48            78             69            4     1    12        13   \n",
       "49            78             76            5     2     5         6   \n",
       "50            78             78            1     2     3         4   \n",
       "51            79             79            2     2     3         4   \n",
       "52            82             82            3     2     3         4   \n",
       "53            85             85            4     4     3         4   \n",
       "54            89             83            5     1     9        10   \n",
       "55            89             89            1     1     3         4   \n",
       "56            90             89            2     4     4         5   \n",
       "57            92             92            3     4     3         4   \n",
       "58            95             90            4     2     8         9   \n",
       "59            95             94            5     1     4         5   \n",
       "60            96             96            1     2     3         4   \n",
       "61            97             97            2     2     3         4   \n",
       "62           100             99            3     0     4         5   \n",
       "63           102            100            4     0     5         6   \n",
       "64           104             97            5     5    10        11   \n",
       "65           104            102            1     1     5         6   \n",
       "66           104            103            2     3     4         5   \n",
       "67           106            106            3     2     3         4   \n",
       "68           109            109            4     4     3         4   \n",
       "69           113            107            5     1     9        10   \n",
       "\n",
       "    ending_jet_num  \n",
       "20              32  \n",
       "21              37  \n",
       "22               1  \n",
       "23              10  \n",
       "24              15  \n",
       "25              19  \n",
       "26              23  \n",
       "27              28  \n",
       "28              34  \n",
       "29               5  \n",
       "30              11  \n",
       "31              16  \n",
       "32              20  \n",
       "33              24  \n",
       "34              34  \n",
       "35              38  \n",
       "36               3  \n",
       "37               9  \n",
       "38              15  \n",
       "39              21  \n",
       "40              25  \n",
       "41              30  \n",
       "42              36  \n",
       "43               2  \n",
       "44              10  \n",
       "45              14  \n",
       "46              18  \n",
       "47              23  \n",
       "48              36  \n",
       "49               2  \n",
       "50               6  \n",
       "51              10  \n",
       "52              14  \n",
       "53              18  \n",
       "54              28  \n",
       "55              32  \n",
       "56              37  \n",
       "57               1  \n",
       "58              10  \n",
       "59              15  \n",
       "60              19  \n",
       "61              23  \n",
       "62              28  \n",
       "63              34  \n",
       "64               5  \n",
       "65              11  \n",
       "66              16  \n",
       "67              20  \n",
       "68              24  \n",
       "69              34  "
      ]
     },
     "execution_count": 11,
     "metadata": {},
     "output_type": "execute_result"
    }
   ],
   "source": [
    "ldf.iloc[20:70]"
   ]
  },
  {
   "cell_type": "markdown",
   "id": "a6bccefa",
   "metadata": {},
   "source": [
    "So I think it is repeating every 35 rocks once we have seen 29 rocks.  "
   ]
  },
  {
   "cell_type": "code",
   "execution_count": null,
   "id": "36a136d8",
   "metadata": {},
   "outputs": [],
   "source": []
  },
  {
   "cell_type": "markdown",
   "id": "fbb48b1b",
   "metadata": {},
   "source": [
    "## Running part one.\n",
    "\n",
    "This time for the data am just using cut and paste because it is easier than \"loading\" in a file."
   ]
  },
  {
   "cell_type": "code",
   "execution_count": 12,
   "id": "2be6404d",
   "metadata": {},
   "outputs": [],
   "source": [
    "\n",
    "with open(\"17.txt\") as f:\n",
    "    contents = f.readlines()\n",
    "\n",
    "jets = Jets('>><>><<<<><<<<><<<>><>>><>>>><>>>><>><<>>><<<>>><<>><>>><<>>>><<<<>>><<<>>>><<>>>><<<<>>><<<>><<<<><>><<>><<>><<>>><<<>><<<>>>><<>>>><<<<>>><<<>><>><<<>><<<<>>>><>>>><<>>><<>>><<>>><<><>>>><<<<><<<<>>><>>><<<<>>>><>>>><><<>><<>><<<<><<<<>>><<<<>>><<>>><<<><<<>><<<>><><<>>>><<<<><<<>><<<<>>><>>><<>><<>>><>>>><<<<>>>><<<<>>><<<<>>>><<<<>>>><>><<<<><<<<>><<>>><<>>>><<<>>>><<>>><<<<><<<><>><>><<<<>>><<<>><<<>><<<<>><<>>><<>><<>>><<<<>>>><>><<<<>>>><<<<>>><>>><<<<>>><<>>>><<>>><<><>>><>><<<<><<<<><<<>>><<<<>>><<<<>>>><>>>><<<>>>><>>>><<<<>><>><<<<><>><<<>>><<<<>><<<<>>>><<<>>><<<<>>>><<<><<><<<><<><<<<>><<>>>><<>>>><<<<>><>>><<<<>>>><<<><<<<>>>><<<<>>><<>>>><<>>>><<<><<>><<<>>><<<<>>><><>>>><>><<<<>>>><<<<>>>><>><<><<>>><>><>><<<>>>><<<>>>><<>>><<<<>>><<>><>>>><<<<>>><<<<>><>><><>><>><><<>><<>>>><<<>>>><<<>>><<<><<<><<<<><<<>><>><<>>><<<>><<><<<<>><<<<>><<<>>>><<>><<<><><<><<>>><<<<>>>><<><>><<<<><<>>>><<<><<>><<>>><<<>><<>><<>><<<<>>><<<>><<>><<<>><<<>>><<<>>><<<><<<<>><>>><<>><<<>>>><<>><<>><>><<<<><<>>><>><<>>>><<<>>>><<<><<>>><<<<><<<<>><><<<>>><<>>>><<<>><<<<>><>><<<><<<>>>><<<<>>><>>>><<>>>><<<><<<>><<<<>>><<<>>>><<<>><<<><<><<<>>>><>><<<>><<>><<<<>>>><<<<>>><<<>>><<>>><<<>>>><<>><<<<>>><<<>>><<>><><<>>><<<>>>><<<<>>>><<<<>>>><<<>>><<<<>>>><>><<>>>><>>>><<>>>><<>>>><<<><<<>><<<>>><<>>>><<<>><<>>><<>>><<<<>>><><><<><>>>><<<>>><><<<<>><<<>><<<<>>>><<<<>>><<>><<<>>><>>><<<<>>>><>><<<><<<<>>>><<>>><>>><<>><<>>>><<<<><<><>>>><<<<>><>>>><>>>><><<<>>>><<>><<>>><<>><<>><>>>><<>><<>><<<<>>><<<<>>>><<<<>>><<><<<>>>><<><<><<<<>><<<><<><<<<>>>><>>><>>><<<<>>>><<<>>>><>><<>>>><<>>>><<<>>>><<<><<<><<<<>>>><<>><<><<<>>>><><<><<<>>><>>>><>><>>>><<<<>><<<<>><<<<>>>><><<<<><<><<<>><><<<>>>><><><>>><<<<>>><<<>>>><>><<<>>><<<>><>><<>><<<<>>>><<<>>><<<>>><<<<>>>><>>><<>><<<<>>>><<<>>><>>>><<<><<><<>><<<>><>>>><<<<><<<><<<<>><<<><<<<>>><<<<>>>><<<>>><>><<<>>>><<<<>>><>><<<>>><<<<>>><<<<><<<<>>><<>>>><<>>>><>>><<<>><<<<>>><<<<><<>><>>><<>>>><<<<><>>>><<<>>><><<<>>>><><>>>><>><<<>>><<<>>>><<<<>>><<<<>>><<<<>><<<><<<<><<<>>><>>><<<>><<<<>><<<>><<<><<<<><<><<<<>>><<>><<>>><><<><>>>><<>>><<<<><<>>><>>>><<<>>><<>>>><><<<>>><<><<<<>><><<><<<>>><<<>>>><<>>>><<>>>><<>>><<<<>>><<<>>><<<><<<>>><>><<<>><<>>>><<>>>><<<>>><<<<>><<<<>>>><<<<>>><<>>><<<<><>>>><>>><<>><<<<>>>><<<<><<>>>><<<>>><<<>><<>>><>><<<>>><<<<><<<<>>><>><<<>><<<<>>><<<><<<><<<>>><>><<>>>><>>><<<<>>><<<>>><>>>><<><><<<<><>>>><><>>>><<<<>><<<<>><>>><<>><<<><<>>>><<<>><<<>><<<>>><<<<>><<<>>>><>><<>>><<<<>>>><<>>>><<<>>><<<<>>>><<<>><><<<<>>>><>>>><<>>><<<<>>><<<>>>><<><<<>>><<>>>><<<<>><<<><<>>><<<>>><<<<><<>>>><><<<<>><<<>>>><<<<>><<<<>>><<<>><<<><>><<<>><<<<>>><<>><<>>><<><<<<>><>>>><<<>>>><<>>>><<>>><<>><<<<>><<<>>>><<>>><<<>>><<<<>><>>>><>>>><<<<>>>><<>><<>>><<<<>>>><>><>>><>><<>><<<<>>><<<>>>><<<<>><<<<><<>><<<<>><<<<>><<<<>>><<<>>>><<<>>><<<>><<<<>>>><<<<>>>><<<<><>><>>>><><<<><>><<<<><<<<>><<<>>>><<>>><<<<>>>><<<<><>>><<>>>><<<>>><<<>>>><<><<<<>><<<>>><>>><<><<<<>>><<<<>><<<<><<>>>><>>><<<>>><<<<><<>><<<><>>>><<>>><<<>>><<<><<>>>><<<>><<<><>><<>><<>><<<>>><<<>>>><<>>>><<<<><<>>>><<<<>><>><<>><<<<>><<>>><<>><<<><<<>>><<>>><<<<>>><<<<>><<<<>><<<<>>>><<<>><<<<>><><<>>>><<<<>>><<<>>><<>><<>>>><<<>>><<>><<<<>><<<>>>><<<<>>>><<><<<<>>><><<>>><<<<>>>><<<>>>><<>><><><<<<><<<><<<>>>><>>>><<<<>><<>>>><<<>>>><<>>><><<>>>><<<<>>><<<>>><<>>>><<<>>><<<>><<<>>>><>>><<<<>>>><<<<>>><<>><<><<<>><<>>>><<<>>><><>>><<>>>><<<>><<>>><<<<>>>><<<<>>>><<>>>><<>><><<>>>><<><<>><<<><<<>>>><<<<><<><<<<>><<<>><<<<><<>>>><<><<<>>>><<<>><>><<><<>>><>><<<<>>><<<>>><<>>><<<>><<>>>><<<>>>><<<<>><><<<>>><><<<<>>>><<<<><>>><>>><<<<>><<<>>>><<>>><<<<>>><<<>><<<><<>><<<>>>><<>>><<<>><>>><<<<>>><<>>>><<<<>>><<>>>><<<><<<<><><<<>><<><<>>><><<<>><<<><><<<><<>>>><<<<><>>><<<>>>><<<<>>><<>>><<><<<<>><<<>>><<<<>><><<>>>><>>>><>>>><<<<>>>><<<>><<<>><<<<>>><<<<><>>><<<<><>>>><><<<>><<<<><<>>>><<<<>>>><<>><<>>><><>>>><>><>>><<>>>><<<>>><<<<><<<>><<<<>>><<>>>><<<<>>><<<<>>>><<>>>><>><<><>>>><<<<>>><<<<><>>>><<<<>><<>>><<<<>><<<>><>>><<><<><<<<>><<><<<<>>>><>>>><<>>><>>><<<<>>>><<<>>><<<<><<<<>>><<>>><<>>>><<<><<<>>>><<<>>><<<><<<<><<>>>><<<>>>><<<<>>><>><<<<>><<><<>>><<><<<>>>><<<<>><<<>>><<><<<>>>><<><<<<><<<<>><<><>><<>>>><>><<<><>>>><<<<>><<<<>><<>>><<<>><<>>>><<<><<>><<<>>>><<<<>>>><><<><>>>><<<>>>><><<<<><<<<>>>><<>>>><<<<>><<<<>><<<<>>><<<><>><<>>>><<><<>>>><<<>><<>><<<<>>>><<<><<<>>>><<<>><<>>><<>>><><<>>>><><>><<<>>>><<<><>><<<<>>>><<><>>>><>>><<<<><<<<>><<>>>><<<><<>>><<>><<<>>>><<><<>>>><<<<>>><>>>><<><<<>>><><<<>>><<<>>><<<>><<<><<>>><<<>>>><<<<>><>>>><<>>>><<<>>>><>><<>>>><<>><<<>>><<>>><<><<>>>><<>><<>>><>>><<<<>>>><>>><<<<>><<<<><>>><>>>><<<>><<<<>>>><<<><>><><<<>>><<<>>>><>>><<>>><<<<>><<<>>>><<<>>>><<<<>><<<<>>><>>>><><><><<<<>>>><<<<><<<<><<<<>>>><<<>>>><<>><<<<><>><<>>><<<><><>><<<>>><<<<>>>><><<<<>>>><><<>>><<>><<>>><>><>><<<>><<>>>><>><<><<<>>>><<<>>><<<<>><<<<>>><<<<>>><<<<>>>><><<>><>>><<<<>>>><><<>>>><<<<>>><<>>><>>>><<>>><><<><<>>>><<<<><<<<><<>>>><<>>>><>>>><<<><>>><<<>>>><<<><<>>><<>><<<><<<<>>><<<>><<>>><>>>><>><<>>><><<<><>>>><<>>><<<><>><<<>><<<<>>>><<<<>><>>><<>>><>><<><<><<<<>><<<><<<>>><>>>><<<<>>><<>>>><<<>>><<>><<>><<<>>>><>><>><>>><<<<>>><<<>>>><<<<>>><<<>>>><>><<>>><<>><<>>>><<<>><<>>>><<<<><<<<><<<<>>><<<>><<<>><<<<>>><<<><<<<>><<>><<>>><<<>>><<>>><<<<><<<<>>><<>>>><<<>>><<>><<<<>><<<<>>>><<<<><<<>>>><<<<>>>><><>>><<>><<<>><<>>>><<>>>><<<>><<>>><<<<>>>><<<<>>>><<>>><<<<>>><<<<><<>>>><<<>>>><<<>><<<>><<>><<<<><<<<>>>><<<>>><<><>>><<><<>>>><<<>>>><<<<><<<<>>><<<<><<<>>>><<>>>><<>>><<>>><<<>><<><<<<><<>><<<<><<<><<<><<>><<<>>>><<<><<>><<>>>><<<><<<<>>><<<>>>><><><<><<<>>><<<<>>><<<>><<<>>>><>>>><<><<>><<>><>>>><<<>><<<>>><>>>><<<<>>><<<<>>><<<>>><<<>>>><<<<>>><<>>>><<<>>>><<<>>><>>>><<><<<>><<>>>><<<<>>><>>><<>>><<<<><>><<>>>><>>><<>>><<><>>><>>><><<><><<>><<<<>>>><>><<<<>>><<>>><<>><>>>><<<>>>><<<<>><<><<<<>>>><<<<><<><><<<<>><<>>>><<<><>>>><>><><<>><<<>>><<>>>><<><<<>>><<<<>>>><<<<>><<><<<>>><<<<>>>><<<>>>><<<>>>><<><<<>>>><<<<>>>><>><>>>><<>>>><<<>><<>>><<<>>>><<>>>><<<<>><>>>><<>>>><<<>>>><<<><<<>><<<<>>><><<<<><<<<>><<<>><<<>>>><<<><<><<<>><<<<>>>><<<>>><<>>><<>>><><<>>>><>>>><<><>>><><<<<>>>><>>><>>><<>><>>>><<<<>><<>><<><<<<>><<<<>>>><<<<>>>><<<><<<<>>>><<<<>>><<><<<><<><<>>><<<<>><<<>>>><<<>>>><<<>>>><<<>><>><<<><><<>>>><<<<><<<><<<<><<>>><<<>>>><<<<><<<<>><<>>>><<>><<><<<<>>>><><<<<>><<><<<>>><>>><>><>>>><<<<>><<>>>><><<<>>><<>>>><<<>>>><<<<>>><<>><<<<>><<>>>><<<>>>><<<<><>>><<<<>><<>><<<>>><><<>>><>><<<>>>><>><<<>>>><<<<><<>>>><><<<<>>><<<<>><<<>>>><<>>>><<<<>>>><<<<>><<><<<><<<>>>><<<<><<<<>>>><><>>><<>><<<>><<>><<>>>><>>><<<<><<<<>>><<>>>><<<>>>><>>>><<<<>><>>>><>>><<<>>>><>>>><<>>>><<><<>>>><>>>><><<<<><>>><<><<<>>>><>><<>>>><<<>><<>><<>>><<<><<<<>>><<<><<><>>><<><<><<<><<<>>>><<>>><<<<>><<<><>><<>>><<<<>>><>>><<>><<<>>>><>>>><<<<>><>><>><>>><<<<>><<>><><<>>><<<>>><<<><>><<<<>><<<>><<>><<<>>>><<>><<<<>>><>>><<><<>>><>>>><<><<<<>>>><<<<>>>><<>>>><<<>><<<>><<<>>>><>>><>>>><<><<<>>><<><<>>><>><<<<><<<<>>>><<<>>><>><<>>><>><>><<><<<<>><><>>><<<><<<<>>>><<<<><<<<>>><<<<>>>><<<>>>><<>>>><<<<><>>>><>>><<<<><<>><<<<><<<<>><>><<<>>><><<<<>><>>><>>><<><><<<<>><<<<>>><<<>>><>>>><<>>><<>>><<>><>>><<<>><><<>>>><><<<>><<<>>>><<<>>><>><<>>><<<<>><<<<>>>><<<<>><<<>>><<<<>>><><>>>><<>><<>>>><<<<><<<<>>>><<>><<>><>><<<<><<>>>><<<>>><>><<<<>>>><<>><<<>>>><<>>><<<><<<>><<<<><>><><<<<>>>><<<>><<<>>><<<>>>><<<>>><<<<>>>><<<>>><>><<<><<<>><><<>>>><>><>>><<<>>>><<>>>><>>>><<>>><<<<><<<<>><<<<>><<<<>>><<<<>>><<>>><><<<>>>><><<<>>><<>>>><<<<>>>><<>><>>>><<<<>><<>>><>><>>>><<>>><<<<>>>><<>>><<>>><><<<<>><<<>>><<<<>>>><>>><<><<>><>>><<>>><<><><<<><>>><<><<<>>>><>>><<<>><<>><<><<<<>><><<<<>>>><<<>><>>><>>><<<><>>>><<<><>><<<<><<<<><<<>><<>><<>><<<<>>>><<>>><<>><<<<>>>><>>><>>><<<<>>>><>><<<<>>><<>>>><<>>>><<<>><<<><<>>><>><<<<>>>><<>><<<>>><>><<<>><>>>><>>><<<>>><>><>><<<>><<<>><<<<>><<<>><<<<><>>><<<>>><<>>><<<>><<<>><>><<<<>><<>>><<<>>><<<>><<<<><<<>>>><>><<>>>><<<><>>>><<<>>>><>>><>><<>><<>>><<<<>><<<<>>>><>>><>>>><<<<><<<>><<>>>><<<<>>><><<>>>><>><<>>>><<<><<><>>>><<<>><>>><<<>>>><<<<><<>><>>><>>>><><<<>>>><<<<><><<<>>><<<>><><<<>>><<<>><<<>><<<><>>><><<<<><<<<>>>><<<><<>><<<<><<>><<<<>>>><<<<><>>>><<<><>>>><<<<>>><<<<><<><<<><<>><<>><<<<>>>><<<>>>><<<<>>>><<<>>>><<<<>>>><<<<>>>><>>><<<<>>><<<<>><>>>><>><>><>>><<>>>><>>>><<<<>><<<<>><>><<<<><<>>><<>><>>>><<<<>>><<>><<<<>>>><<<>>><>><<<<>>><<<>>><<<<>>><<<><<<<><<<<>>>><<<>><<<>>><>>><<<<>>>><<>>>><<<><<<>>><<>>>><<<>><>>><>>>><<<<>><<<>><<>>>><>>>><<<>><<><><<<<>>>><<>>><<>>>><<>>><<>>><<>>>><>><><<<<>>><<<<>>><<<>><<<<>><>>><<>>><<><<<>>>><<>><><>><<><>>><<<>><<><<<><<<>><<<<><<<<>>>><<<><<<<>>>><<<<><>><>><<<>><<<<>>>><<>>>><<>>><>>><<<>>>><<<><<><<<>><<><<>>>><<<><<<>><<<<>>>><<>>><<<<>><<>><><>><<>>><<<<>><<><<><<>>><<>>><<<<>>><<<<>><<<<><><>>><<<<><<>>>><<<<><>>><<>><<<<>><<>><<<><<<><<<<>>>><<>>><<>><>><>>>><>>>><>><<>>>><<<<>>><>><<><<<>>>><<<>>><<<>>><<><<>><<>>><<>>><<<<><<<<>>>><><<<<><<>>>><<<<><><<>>>><>><<>>>><>>>><<<>><<<<>>>><<<<>>>><<<<>>><>><<><<>>><>>>><<<>><<<>>><<>>><>>><<<>>>><>><<<>>>><<<<><<><<>>><<<<>>><<<>>>><<>>>><>><<<><<<>><<<<><><<><<<>>><<<>>><>>><>>><<<<>><<<><>>>><<<<><><<<<>>><<<>>>><<>><<<<>>>><<<>>><<<<>>>><<>>><<>>>><<<<>><><>>><>>>><<<<>>>><<<>>><<><<>><>>>><<>>>><>>>><<>>>><<<>><<<>>><<<><<>>><<<>>>><<>>>><<>>><<<<>><>><<<<><<>><<>><<>>><<<><<>>>><>>><<<<><<<<>>>><><<>>>><<<>><<>>>><<<>>><<<<>>>><<<<>>>><><>>>><<<>><<<>>><<>><<<<>>>><>>><<><<<><<<<>>>><<>>><><<<>>>><<><><>><><<>>>><<<<>>><>>><<<<>>><<>>>><<>><<<>>>><<<>>><<<<>>><<<>><<<<><>><<<><><<><<<<><<<><<<>>><<><<<>>>><<<>>><<<<>>><<<<>>>><<<>><<<<>>><<><><<<><>>><<<>>>><>>><<<<>>><<<<>>>><<<>>>><<<>><<>><<>>>><<>>><<>><><<<>>>><<<<><>>><<<<>>><<<>><<<<>><<>>>><<>>><<<>>>><<>><<<>>>><<<<>>><><>><<<>>><<<<>>><<<<>><<<>>><>>><<>><><<<>><><>>><<>><<>><<<>>>><<>>>><><>><<<>>><>><<>><<<<>>>><<>>>><<<>><<>>><>>><<<<>><<<<>>><<>>><<>>><<<<>><<>><<><<<<>>>><<>>>><>>><<>>><<>>><<<>><<<>><<<<>><<<<><>>><<<<>><<<><><<<<>>><<>>>><>>>><<>><<<<><<<<>>><<<>>><<<<>>><<<>>><<<>><<<>><>>><<>>>><<<><<<>>>><<<<>>>><>>><<><<<><><<<>><>>><<<>>>><>><<<>>>><<<><<>>')"
   ]
  },
  {
   "cell_type": "code",
   "execution_count": 13,
   "id": "c66c71b7",
   "metadata": {},
   "outputs": [
    {
     "name": "stdout",
     "output_type": "stream",
     "text": [
      "3161\n",
      "3161\n"
     ]
    }
   ],
   "source": [
    "\n",
    "#If you don't put this in the same cell, you will get errors when you forget to reinitialize\n",
    "jets = Jets('>><>><<<<><<<<><<<>><>>><>>>><>>>><>><<>>><<<>>><<>><>>><<>>>><<<<>>><<<>>>><<>>>><<<<>>><<<>><<<<><>><<>><<>><<>>><<<>><<<>>>><<>>>><<<<>>><<<>><>><<<>><<<<>>>><>>>><<>>><<>>><<>>><<><>>>><<<<><<<<>>><>>><<<<>>>><>>>><><<>><<>><<<<><<<<>>><<<<>>><<>>><<<><<<>><<<>><><<>>>><<<<><<<>><<<<>>><>>><<>><<>>><>>>><<<<>>>><<<<>>><<<<>>>><<<<>>>><>><<<<><<<<>><<>>><<>>>><<<>>>><<>>><<<<><<<><>><>><<<<>>><<<>><<<>><<<<>><<>>><<>><<>>><<<<>>>><>><<<<>>>><<<<>>><>>><<<<>>><<>>>><<>>><<><>>><>><<<<><<<<><<<>>><<<<>>><<<<>>>><>>>><<<>>>><>>>><<<<>><>><<<<><>><<<>>><<<<>><<<<>>>><<<>>><<<<>>>><<<><<><<<><<><<<<>><<>>>><<>>>><<<<>><>>><<<<>>>><<<><<<<>>>><<<<>>><<>>>><<>>>><<<><<>><<<>>><<<<>>><><>>>><>><<<<>>>><<<<>>>><>><<><<>>><>><>><<<>>>><<<>>>><<>>><<<<>>><<>><>>>><<<<>>><<<<>><>><><>><>><><<>><<>>>><<<>>>><<<>>><<<><<<><<<<><<<>><>><<>>><<<>><<><<<<>><<<<>><<<>>>><<>><<<><><<><<>>><<<<>>>><<><>><<<<><<>>>><<<><<>><<>>><<<>><<>><<>><<<<>>><<<>><<>><<<>><<<>>><<<>>><<<><<<<>><>>><<>><<<>>>><<>><<>><>><<<<><<>>><>><<>>>><<<>>>><<<><<>>><<<<><<<<>><><<<>>><<>>>><<<>><<<<>><>><<<><<<>>>><<<<>>><>>>><<>>>><<<><<<>><<<<>>><<<>>>><<<>><<<><<><<<>>>><>><<<>><<>><<<<>>>><<<<>>><<<>>><<>>><<<>>>><<>><<<<>>><<<>>><<>><><<>>><<<>>>><<<<>>>><<<<>>>><<<>>><<<<>>>><>><<>>>><>>>><<>>>><<>>>><<<><<<>><<<>>><<>>>><<<>><<>>><<>>><<<<>>><><><<><>>>><<<>>><><<<<>><<<>><<<<>>>><<<<>>><<>><<<>>><>>><<<<>>>><>><<<><<<<>>>><<>>><>>><<>><<>>>><<<<><<><>>>><<<<>><>>>><>>>><><<<>>>><<>><<>>><<>><<>><>>>><<>><<>><<<<>>><<<<>>>><<<<>>><<><<<>>>><<><<><<<<>><<<><<><<<<>>>><>>><>>><<<<>>>><<<>>>><>><<>>>><<>>>><<<>>>><<<><<<><<<<>>>><<>><<><<<>>>><><<><<<>>><>>>><>><>>>><<<<>><<<<>><<<<>>>><><<<<><<><<<>><><<<>>>><><><>>><<<<>>><<<>>>><>><<<>>><<<>><>><<>><<<<>>>><<<>>><<<>>><<<<>>>><>>><<>><<<<>>>><<<>>><>>>><<<><<><<>><<<>><>>>><<<<><<<><<<<>><<<><<<<>>><<<<>>>><<<>>><>><<<>>>><<<<>>><>><<<>>><<<<>>><<<<><<<<>>><<>>>><<>>>><>>><<<>><<<<>>><<<<><<>><>>><<>>>><<<<><>>>><<<>>><><<<>>>><><>>>><>><<<>>><<<>>>><<<<>>><<<<>>><<<<>><<<><<<<><<<>>><>>><<<>><<<<>><<<>><<<><<<<><<><<<<>>><<>><<>>><><<><>>>><<>>><<<<><<>>><>>>><<<>>><<>>>><><<<>>><<><<<<>><><<><<<>>><<<>>>><<>>>><<>>>><<>>><<<<>>><<<>>><<<><<<>>><>><<<>><<>>>><<>>>><<<>>><<<<>><<<<>>>><<<<>>><<>>><<<<><>>>><>>><<>><<<<>>>><<<<><<>>>><<<>>><<<>><<>>><>><<<>>><<<<><<<<>>><>><<<>><<<<>>><<<><<<><<<>>><>><<>>>><>>><<<<>>><<<>>><>>>><<><><<<<><>>>><><>>>><<<<>><<<<>><>>><<>><<<><<>>>><<<>><<<>><<<>>><<<<>><<<>>>><>><<>>><<<<>>>><<>>>><<<>>><<<<>>>><<<>><><<<<>>>><>>>><<>>><<<<>>><<<>>>><<><<<>>><<>>>><<<<>><<<><<>>><<<>>><<<<><<>>>><><<<<>><<<>>>><<<<>><<<<>>><<<>><<<><>><<<>><<<<>>><<>><<>>><<><<<<>><>>>><<<>>>><<>>>><<>>><<>><<<<>><<<>>>><<>>><<<>>><<<<>><>>>><>>>><<<<>>>><<>><<>>><<<<>>>><>><>>><>><<>><<<<>>><<<>>>><<<<>><<<<><<>><<<<>><<<<>><<<<>>><<<>>>><<<>>><<<>><<<<>>>><<<<>>>><<<<><>><>>>><><<<><>><<<<><<<<>><<<>>>><<>>><<<<>>>><<<<><>>><<>>>><<<>>><<<>>>><<><<<<>><<<>>><>>><<><<<<>>><<<<>><<<<><<>>>><>>><<<>>><<<<><<>><<<><>>>><<>>><<<>>><<<><<>>>><<<>><<<><>><<>><<>><<<>>><<<>>>><<>>>><<<<><<>>>><<<<>><>><<>><<<<>><<>>><<>><<<><<<>>><<>>><<<<>>><<<<>><<<<>><<<<>>>><<<>><<<<>><><<>>>><<<<>>><<<>>><<>><<>>>><<<>>><<>><<<<>><<<>>>><<<<>>>><<><<<<>>><><<>>><<<<>>>><<<>>>><<>><><><<<<><<<><<<>>>><>>>><<<<>><<>>>><<<>>>><<>>><><<>>>><<<<>>><<<>>><<>>>><<<>>><<<>><<<>>>><>>><<<<>>>><<<<>>><<>><<><<<>><<>>>><<<>>><><>>><<>>>><<<>><<>>><<<<>>>><<<<>>>><<>>>><<>><><<>>>><<><<>><<<><<<>>>><<<<><<><<<<>><<<>><<<<><<>>>><<><<<>>>><<<>><>><<><<>>><>><<<<>>><<<>>><<>>><<<>><<>>>><<<>>>><<<<>><><<<>>><><<<<>>>><<<<><>>><>>><<<<>><<<>>>><<>>><<<<>>><<<>><<<><<>><<<>>>><<>>><<<>><>>><<<<>>><<>>>><<<<>>><<>>>><<<><<<<><><<<>><<><<>>><><<<>><<<><><<<><<>>>><<<<><>>><<<>>>><<<<>>><<>>><<><<<<>><<<>>><<<<>><><<>>>><>>>><>>>><<<<>>>><<<>><<<>><<<<>>><<<<><>>><<<<><>>>><><<<>><<<<><<>>>><<<<>>>><<>><<>>><><>>>><>><>>><<>>>><<<>>><<<<><<<>><<<<>>><<>>>><<<<>>><<<<>>>><<>>>><>><<><>>>><<<<>>><<<<><>>>><<<<>><<>>><<<<>><<<>><>>><<><<><<<<>><<><<<<>>>><>>>><<>>><>>><<<<>>>><<<>>><<<<><<<<>>><<>>><<>>>><<<><<<>>>><<<>>><<<><<<<><<>>>><<<>>>><<<<>>><>><<<<>><<><<>>><<><<<>>>><<<<>><<<>>><<><<<>>>><<><<<<><<<<>><<><>><<>>>><>><<<><>>>><<<<>><<<<>><<>>><<<>><<>>>><<<><<>><<<>>>><<<<>>>><><<><>>>><<<>>>><><<<<><<<<>>>><<>>>><<<<>><<<<>><<<<>>><<<><>><<>>>><<><<>>>><<<>><<>><<<<>>>><<<><<<>>>><<<>><<>>><<>>><><<>>>><><>><<<>>>><<<><>><<<<>>>><<><>>>><>>><<<<><<<<>><<>>>><<<><<>>><<>><<<>>>><<><<>>>><<<<>>><>>>><<><<<>>><><<<>>><<<>>><<<>><<<><<>>><<<>>>><<<<>><>>>><<>>>><<<>>>><>><<>>>><<>><<<>>><<>>><<><<>>>><<>><<>>><>>><<<<>>>><>>><<<<>><<<<><>>><>>>><<<>><<<<>>>><<<><>><><<<>>><<<>>>><>>><<>>><<<<>><<<>>>><<<>>>><<<<>><<<<>>><>>>><><><><<<<>>>><<<<><<<<><<<<>>>><<<>>>><<>><<<<><>><<>>><<<><><>><<<>>><<<<>>>><><<<<>>>><><<>>><<>><<>>><>><>><<<>><<>>>><>><<><<<>>>><<<>>><<<<>><<<<>>><<<<>>><<<<>>>><><<>><>>><<<<>>>><><<>>>><<<<>>><<>>><>>>><<>>><><<><<>>>><<<<><<<<><<>>>><<>>>><>>>><<<><>>><<<>>>><<<><<>>><<>><<<><<<<>>><<<>><<>>><>>>><>><<>>><><<<><>>>><<>>><<<><>><<<>><<<<>>>><<<<>><>>><<>>><>><<><<><<<<>><<<><<<>>><>>>><<<<>>><<>>>><<<>>><<>><<>><<<>>>><>><>><>>><<<<>>><<<>>>><<<<>>><<<>>>><>><<>>><<>><<>>>><<<>><<>>>><<<<><<<<><<<<>>><<<>><<<>><<<<>>><<<><<<<>><<>><<>>><<<>>><<>>><<<<><<<<>>><<>>>><<<>>><<>><<<<>><<<<>>>><<<<><<<>>>><<<<>>>><><>>><<>><<<>><<>>>><<>>>><<<>><<>>><<<<>>>><<<<>>>><<>>><<<<>>><<<<><<>>>><<<>>>><<<>><<<>><<>><<<<><<<<>>>><<<>>><<><>>><<><<>>>><<<>>>><<<<><<<<>>><<<<><<<>>>><<>>>><<>>><<>>><<<>><<><<<<><<>><<<<><<<><<<><<>><<<>>>><<<><<>><<>>>><<<><<<<>>><<<>>>><><><<><<<>>><<<<>>><<<>><<<>>>><>>>><<><<>><<>><>>>><<<>><<<>>><>>>><<<<>>><<<<>>><<<>>><<<>>>><<<<>>><<>>>><<<>>>><<<>>><>>>><<><<<>><<>>>><<<<>>><>>><<>>><<<<><>><<>>>><>>><<>>><<><>>><>>><><<><><<>><<<<>>>><>><<<<>>><<>>><<>><>>>><<<>>>><<<<>><<><<<<>>>><<<<><<><><<<<>><<>>>><<<><>>>><>><><<>><<<>>><<>>>><<><<<>>><<<<>>>><<<<>><<><<<>>><<<<>>>><<<>>>><<<>>>><<><<<>>>><<<<>>>><>><>>>><<>>>><<<>><<>>><<<>>>><<>>>><<<<>><>>>><<>>>><<<>>>><<<><<<>><<<<>>><><<<<><<<<>><<<>><<<>>>><<<><<><<<>><<<<>>>><<<>>><<>>><<>>><><<>>>><>>>><<><>>><><<<<>>>><>>><>>><<>><>>>><<<<>><<>><<><<<<>><<<<>>>><<<<>>>><<<><<<<>>>><<<<>>><<><<<><<><<>>><<<<>><<<>>>><<<>>>><<<>>>><<<>><>><<<><><<>>>><<<<><<<><<<<><<>>><<<>>>><<<<><<<<>><<>>>><<>><<><<<<>>>><><<<<>><<><<<>>><>>><>><>>>><<<<>><<>>>><><<<>>><<>>>><<<>>>><<<<>>><<>><<<<>><<>>>><<<>>>><<<<><>>><<<<>><<>><<<>>><><<>>><>><<<>>>><>><<<>>>><<<<><<>>>><><<<<>>><<<<>><<<>>>><<>>>><<<<>>>><<<<>><<><<<><<<>>>><<<<><<<<>>>><><>>><<>><<<>><<>><<>>>><>>><<<<><<<<>>><<>>>><<<>>>><>>>><<<<>><>>>><>>><<<>>>><>>>><<>>>><<><<>>>><>>>><><<<<><>>><<><<<>>>><>><<>>>><<<>><<>><<>>><<<><<<<>>><<<><<><>>><<><<><<<><<<>>>><<>>><<<<>><<<><>><<>>><<<<>>><>>><<>><<<>>>><>>>><<<<>><>><>><>>><<<<>><<>><><<>>><<<>>><<<><>><<<<>><<<>><<>><<<>>>><<>><<<<>>><>>><<><<>>><>>>><<><<<<>>>><<<<>>>><<>>>><<<>><<<>><<<>>>><>>><>>>><<><<<>>><<><<>>><>><<<<><<<<>>>><<<>>><>><<>>><>><>><<><<<<>><><>>><<<><<<<>>>><<<<><<<<>>><<<<>>>><<<>>>><<>>>><<<<><>>>><>>><<<<><<>><<<<><<<<>><>><<<>>><><<<<>><>>><>>><<><><<<<>><<<<>>><<<>>><>>>><<>>><<>>><<>><>>><<<>><><<>>>><><<<>><<<>>>><<<>>><>><<>>><<<<>><<<<>>>><<<<>><<<>>><<<<>>><><>>>><<>><<>>>><<<<><<<<>>>><<>><<>><>><<<<><<>>>><<<>>><>><<<<>>>><<>><<<>>>><<>>><<<><<<>><<<<><>><><<<<>>>><<<>><<<>>><<<>>>><<<>>><<<<>>>><<<>>><>><<<><<<>><><<>>>><>><>>><<<>>>><<>>>><>>>><<>>><<<<><<<<>><<<<>><<<<>>><<<<>>><<>>><><<<>>>><><<<>>><<>>>><<<<>>>><<>><>>>><<<<>><<>>><>><>>>><<>>><<<<>>>><<>>><<>>><><<<<>><<<>>><<<<>>>><>>><<><<>><>>><<>>><<><><<<><>>><<><<<>>>><>>><<<>><<>><<><<<<>><><<<<>>>><<<>><>>><>>><<<><>>>><<<><>><<<<><<<<><<<>><<>><<>><<<<>>>><<>>><<>><<<<>>>><>>><>>><<<<>>>><>><<<<>>><<>>>><<>>>><<<>><<<><<>>><>><<<<>>>><<>><<<>>><>><<<>><>>>><>>><<<>>><>><>><<<>><<<>><<<<>><<<>><<<<><>>><<<>>><<>>><<<>><<<>><>><<<<>><<>>><<<>>><<<>><<<<><<<>>>><>><<>>>><<<><>>>><<<>>>><>>><>><<>><<>>><<<<>><<<<>>>><>>><>>>><<<<><<<>><<>>>><<<<>>><><<>>>><>><<>>>><<<><<><>>>><<<>><>>><<<>>>><<<<><<>><>>><>>>><><<<>>>><<<<><><<<>>><<<>><><<<>>><<<>><<<>><<<><>>><><<<<><<<<>>>><<<><<>><<<<><<>><<<<>>>><<<<><>>>><<<><>>>><<<<>>><<<<><<><<<><<>><<>><<<<>>>><<<>>>><<<<>>>><<<>>>><<<<>>>><<<<>>>><>>><<<<>>><<<<>><>>>><>><>><>>><<>>>><>>>><<<<>><<<<>><>><<<<><<>>><<>><>>>><<<<>>><<>><<<<>>>><<<>>><>><<<<>>><<<>>><<<<>>><<<><<<<><<<<>>>><<<>><<<>>><>>><<<<>>>><<>>>><<<><<<>>><<>>>><<<>><>>><>>>><<<<>><<<>><<>>>><>>>><<<>><<><><<<<>>>><<>>><<>>>><<>>><<>>><<>>>><>><><<<<>>><<<<>>><<<>><<<<>><>>><<>>><<><<<>>>><<>><><>><<><>>><<<>><<><<<><<<>><<<<><<<<>>>><<<><<<<>>>><<<<><>><>><<<>><<<<>>>><<>>>><<>>><>>><<<>>>><<<><<><<<>><<><<>>>><<<><<<>><<<<>>>><<>>><<<<>><<>><><>><<>>><<<<>><<><<><<>>><<>>><<<<>>><<<<>><<<<><><>>><<<<><<>>>><<<<><>>><<>><<<<>><<>><<<><<<><<<<>>>><<>>><<>><>><>>>><>>>><>><<>>>><<<<>>><>><<><<<>>>><<<>>><<<>>><<><<>><<>>><<>>><<<<><<<<>>>><><<<<><<>>>><<<<><><<>>>><>><<>>>><>>>><<<>><<<<>>>><<<<>>>><<<<>>><>><<><<>>><>>>><<<>><<<>>><<>>><>>><<<>>>><>><<<>>>><<<<><<><<>>><<<<>>><<<>>>><<>>>><>><<<><<<>><<<<><><<><<<>>><<<>>><>>><>>><<<<>><<<><>>>><<<<><><<<<>>><<<>>>><<>><<<<>>>><<<>>><<<<>>>><<>>><<>>>><<<<>><><>>><>>>><<<<>>>><<<>>><<><<>><>>>><<>>>><>>>><<>>>><<<>><<<>>><<<><<>>><<<>>>><<>>>><<>>><<<<>><>><<<<><<>><<>><<>>><<<><<>>>><>>><<<<><<<<>>>><><<>>>><<<>><<>>>><<<>>><<<<>>>><<<<>>>><><>>>><<<>><<<>>><<>><<<<>>>><>>><<><<<><<<<>>>><<>>><><<<>>>><<><><>><><<>>>><<<<>>><>>><<<<>>><<>>>><<>><<<>>>><<<>>><<<<>>><<<>><<<<><>><<<><><<><<<<><<<><<<>>><<><<<>>>><<<>>><<<<>>><<<<>>>><<<>><<<<>>><<><><<<><>>><<<>>>><>>><<<<>>><<<<>>>><<<>>>><<<>><<>><<>>>><<>>><<>><><<<>>>><<<<><>>><<<<>>><<<>><<<<>><<>>>><<>>><<<>>>><<>><<<>>>><<<<>>><><>><<<>>><<<<>>><<<<>><<<>>><>>><<>><><<<>><><>>><<>><<>><<<>>>><<>>>><><>><<<>>><>><<>><<<<>>>><<>>>><<<>><<>>><>>><<<<>><<<<>>><<>>><<>>><<<<>><<>><<><<<<>>>><<>>>><>>><<>>><<>>><<<>><<<>><<<<>><<<<><>>><<<<>><<<><><<<<>>><<>>>><>>>><<>><<<<><<<<>>><<<>>><<<<>>><<<>>><<<>><<<>><>>><<>>>><<<><<<>>>><<<<>>>><>>><<><<<><><<<>><>>><<<>>>><>><<<>>>><<<><<>>')\n",
    "\n",
    "part1 = Chamber(logging = False)\n",
    "for i in range(1,2023):\n",
    "    part1.add_rock(Rock(i),jets,plots = False)\n",
    "\n",
    "print(part1.bottom_index)\n",
    "print(part1.get_rock_height())"
   ]
  },
  {
   "cell_type": "code",
   "execution_count": 14,
   "id": "88d3f055",
   "metadata": {},
   "outputs": [
    {
     "name": "stdout",
     "output_type": "stream",
     "text": [
      "big_number = 494,559,841.7408506\n"
     ]
    }
   ],
   "source": [
    "big_number = 1000000000000.0/2022\n",
    "print(f\"{big_number = :,}\")"
   ]
  },
  {
   "cell_type": "code",
   "execution_count": 15,
   "id": "2348de95",
   "metadata": {},
   "outputs": [
    {
     "name": "stdout",
     "output_type": "stream",
     "text": [
      "3.8.2\n"
     ]
    },
    {
     "data": {
      "text/plain": [
       "(8088, 7)"
      ]
     },
     "execution_count": 15,
     "metadata": {},
     "output_type": "execute_result"
    }
   ],
   "source": [
    "from platform import python_version\n",
    "\n",
    "print(python_version())\n",
    "part1.grid.shape"
   ]
  },
  {
   "cell_type": "code",
   "execution_count": 16,
   "id": "3aa5f645",
   "metadata": {},
   "outputs": [
    {
     "data": {
      "text/plain": [
       "False"
      ]
     },
     "execution_count": 16,
     "metadata": {},
     "output_type": "execute_result"
    }
   ],
   "source": [
    "part1.logging"
   ]
  },
  {
   "cell_type": "code",
   "execution_count": null,
   "id": "ef0622e4",
   "metadata": {},
   "outputs": [],
   "source": []
  },
  {
   "cell_type": "markdown",
   "id": "f5ffe7db",
   "metadata": {},
   "source": [
    "## Part 2\n",
    "\n",
    "Where they give us a ridiculous number of rocks"
   ]
  },
  {
   "cell_type": "code",
   "execution_count": 17,
   "id": "9037d206",
   "metadata": {},
   "outputs": [],
   "source": [
    "big_rock_num = 1000000000000\n",
    "big_rock_num = 10000"
   ]
  },
  {
   "cell_type": "code",
   "execution_count": 18,
   "id": "2b2ffc7e",
   "metadata": {},
   "outputs": [
    {
     "name": "stdout",
     "output_type": "stream",
     "text": [
      "3755\n",
      "15755\n"
     ]
    }
   ],
   "source": [
    "jets = Jets('>><>><<<<><<<<><<<>><>>><>>>><>>>><>><<>>><<<>>><<>><>>><<>>>><<<<>>><<<>>>><<>>>><<<<>>><<<>><<<<><>><<>><<>><<>>><<<>><<<>>>><<>>>><<<<>>><<<>><>><<<>><<<<>>>><>>>><<>>><<>>><<>>><<><>>>><<<<><<<<>>><>>><<<<>>>><>>>><><<>><<>><<<<><<<<>>><<<<>>><<>>><<<><<<>><<<>><><<>>>><<<<><<<>><<<<>>><>>><<>><<>>><>>>><<<<>>>><<<<>>><<<<>>>><<<<>>>><>><<<<><<<<>><<>>><<>>>><<<>>>><<>>><<<<><<<><>><>><<<<>>><<<>><<<>><<<<>><<>>><<>><<>>><<<<>>>><>><<<<>>>><<<<>>><>>><<<<>>><<>>>><<>>><<><>>><>><<<<><<<<><<<>>><<<<>>><<<<>>>><>>>><<<>>>><>>>><<<<>><>><<<<><>><<<>>><<<<>><<<<>>>><<<>>><<<<>>>><<<><<><<<><<><<<<>><<>>>><<>>>><<<<>><>>><<<<>>>><<<><<<<>>>><<<<>>><<>>>><<>>>><<<><<>><<<>>><<<<>>><><>>>><>><<<<>>>><<<<>>>><>><<><<>>><>><>><<<>>>><<<>>>><<>>><<<<>>><<>><>>>><<<<>>><<<<>><>><><>><>><><<>><<>>>><<<>>>><<<>>><<<><<<><<<<><<<>><>><<>>><<<>><<><<<<>><<<<>><<<>>>><<>><<<><><<><<>>><<<<>>>><<><>><<<<><<>>>><<<><<>><<>>><<<>><<>><<>><<<<>>><<<>><<>><<<>><<<>>><<<>>><<<><<<<>><>>><<>><<<>>>><<>><<>><>><<<<><<>>><>><<>>>><<<>>>><<<><<>>><<<<><<<<>><><<<>>><<>>>><<<>><<<<>><>><<<><<<>>>><<<<>>><>>>><<>>>><<<><<<>><<<<>>><<<>>>><<<>><<<><<><<<>>>><>><<<>><<>><<<<>>>><<<<>>><<<>>><<>>><<<>>>><<>><<<<>>><<<>>><<>><><<>>><<<>>>><<<<>>>><<<<>>>><<<>>><<<<>>>><>><<>>>><>>>><<>>>><<>>>><<<><<<>><<<>>><<>>>><<<>><<>>><<>>><<<<>>><><><<><>>>><<<>>><><<<<>><<<>><<<<>>>><<<<>>><<>><<<>>><>>><<<<>>>><>><<<><<<<>>>><<>>><>>><<>><<>>>><<<<><<><>>>><<<<>><>>>><>>>><><<<>>>><<>><<>>><<>><<>><>>>><<>><<>><<<<>>><<<<>>>><<<<>>><<><<<>>>><<><<><<<<>><<<><<><<<<>>>><>>><>>><<<<>>>><<<>>>><>><<>>>><<>>>><<<>>>><<<><<<><<<<>>>><<>><<><<<>>>><><<><<<>>><>>>><>><>>>><<<<>><<<<>><<<<>>>><><<<<><<><<<>><><<<>>>><><><>>><<<<>>><<<>>>><>><<<>>><<<>><>><<>><<<<>>>><<<>>><<<>>><<<<>>>><>>><<>><<<<>>>><<<>>><>>>><<<><<><<>><<<>><>>>><<<<><<<><<<<>><<<><<<<>>><<<<>>>><<<>>><>><<<>>>><<<<>>><>><<<>>><<<<>>><<<<><<<<>>><<>>>><<>>>><>>><<<>><<<<>>><<<<><<>><>>><<>>>><<<<><>>>><<<>>><><<<>>>><><>>>><>><<<>>><<<>>>><<<<>>><<<<>>><<<<>><<<><<<<><<<>>><>>><<<>><<<<>><<<>><<<><<<<><<><<<<>>><<>><<>>><><<><>>>><<>>><<<<><<>>><>>>><<<>>><<>>>><><<<>>><<><<<<>><><<><<<>>><<<>>>><<>>>><<>>>><<>>><<<<>>><<<>>><<<><<<>>><>><<<>><<>>>><<>>>><<<>>><<<<>><<<<>>>><<<<>>><<>>><<<<><>>>><>>><<>><<<<>>>><<<<><<>>>><<<>>><<<>><<>>><>><<<>>><<<<><<<<>>><>><<<>><<<<>>><<<><<<><<<>>><>><<>>>><>>><<<<>>><<<>>><>>>><<><><<<<><>>>><><>>>><<<<>><<<<>><>>><<>><<<><<>>>><<<>><<<>><<<>>><<<<>><<<>>>><>><<>>><<<<>>>><<>>>><<<>>><<<<>>>><<<>><><<<<>>>><>>>><<>>><<<<>>><<<>>>><<><<<>>><<>>>><<<<>><<<><<>>><<<>>><<<<><<>>>><><<<<>><<<>>>><<<<>><<<<>>><<<>><<<><>><<<>><<<<>>><<>><<>>><<><<<<>><>>>><<<>>>><<>>>><<>>><<>><<<<>><<<>>>><<>>><<<>>><<<<>><>>>><>>>><<<<>>>><<>><<>>><<<<>>>><>><>>><>><<>><<<<>>><<<>>>><<<<>><<<<><<>><<<<>><<<<>><<<<>>><<<>>>><<<>>><<<>><<<<>>>><<<<>>>><<<<><>><>>>><><<<><>><<<<><<<<>><<<>>>><<>>><<<<>>>><<<<><>>><<>>>><<<>>><<<>>>><<><<<<>><<<>>><>>><<><<<<>>><<<<>><<<<><<>>>><>>><<<>>><<<<><<>><<<><>>>><<>>><<<>>><<<><<>>>><<<>><<<><>><<>><<>><<<>>><<<>>>><<>>>><<<<><<>>>><<<<>><>><<>><<<<>><<>>><<>><<<><<<>>><<>>><<<<>>><<<<>><<<<>><<<<>>>><<<>><<<<>><><<>>>><<<<>>><<<>>><<>><<>>>><<<>>><<>><<<<>><<<>>>><<<<>>>><<><<<<>>><><<>>><<<<>>>><<<>>>><<>><><><<<<><<<><<<>>>><>>>><<<<>><<>>>><<<>>>><<>>><><<>>>><<<<>>><<<>>><<>>>><<<>>><<<>><<<>>>><>>><<<<>>>><<<<>>><<>><<><<<>><<>>>><<<>>><><>>><<>>>><<<>><<>>><<<<>>>><<<<>>>><<>>>><<>><><<>>>><<><<>><<<><<<>>>><<<<><<><<<<>><<<>><<<<><<>>>><<><<<>>>><<<>><>><<><<>>><>><<<<>>><<<>>><<>>><<<>><<>>>><<<>>>><<<<>><><<<>>><><<<<>>>><<<<><>>><>>><<<<>><<<>>>><<>>><<<<>>><<<>><<<><<>><<<>>>><<>>><<<>><>>><<<<>>><<>>>><<<<>>><<>>>><<<><<<<><><<<>><<><<>>><><<<>><<<><><<<><<>>>><<<<><>>><<<>>>><<<<>>><<>>><<><<<<>><<<>>><<<<>><><<>>>><>>>><>>>><<<<>>>><<<>><<<>><<<<>>><<<<><>>><<<<><>>>><><<<>><<<<><<>>>><<<<>>>><<>><<>>><><>>>><>><>>><<>>>><<<>>><<<<><<<>><<<<>>><<>>>><<<<>>><<<<>>>><<>>>><>><<><>>>><<<<>>><<<<><>>>><<<<>><<>>><<<<>><<<>><>>><<><<><<<<>><<><<<<>>>><>>>><<>>><>>><<<<>>>><<<>>><<<<><<<<>>><<>>><<>>>><<<><<<>>>><<<>>><<<><<<<><<>>>><<<>>>><<<<>>><>><<<<>><<><<>>><<><<<>>>><<<<>><<<>>><<><<<>>>><<><<<<><<<<>><<><>><<>>>><>><<<><>>>><<<<>><<<<>><<>>><<<>><<>>>><<<><<>><<<>>>><<<<>>>><><<><>>>><<<>>>><><<<<><<<<>>>><<>>>><<<<>><<<<>><<<<>>><<<><>><<>>>><<><<>>>><<<>><<>><<<<>>>><<<><<<>>>><<<>><<>>><<>>><><<>>>><><>><<<>>>><<<><>><<<<>>>><<><>>>><>>><<<<><<<<>><<>>>><<<><<>>><<>><<<>>>><<><<>>>><<<<>>><>>>><<><<<>>><><<<>>><<<>>><<<>><<<><<>>><<<>>>><<<<>><>>>><<>>>><<<>>>><>><<>>>><<>><<<>>><<>>><<><<>>>><<>><<>>><>>><<<<>>>><>>><<<<>><<<<><>>><>>>><<<>><<<<>>>><<<><>><><<<>>><<<>>>><>>><<>>><<<<>><<<>>>><<<>>>><<<<>><<<<>>><>>>><><><><<<<>>>><<<<><<<<><<<<>>>><<<>>>><<>><<<<><>><<>>><<<><><>><<<>>><<<<>>>><><<<<>>>><><<>>><<>><<>>><>><>><<<>><<>>>><>><<><<<>>>><<<>>><<<<>><<<<>>><<<<>>><<<<>>>><><<>><>>><<<<>>>><><<>>>><<<<>>><<>>><>>>><<>>><><<><<>>>><<<<><<<<><<>>>><<>>>><>>>><<<><>>><<<>>>><<<><<>>><<>><<<><<<<>>><<<>><<>>><>>>><>><<>>><><<<><>>>><<>>><<<><>><<<>><<<<>>>><<<<>><>>><<>>><>><<><<><<<<>><<<><<<>>><>>>><<<<>>><<>>>><<<>>><<>><<>><<<>>>><>><>><>>><<<<>>><<<>>>><<<<>>><<<>>>><>><<>>><<>><<>>>><<<>><<>>>><<<<><<<<><<<<>>><<<>><<<>><<<<>>><<<><<<<>><<>><<>>><<<>>><<>>><<<<><<<<>>><<>>>><<<>>><<>><<<<>><<<<>>>><<<<><<<>>>><<<<>>>><><>>><<>><<<>><<>>>><<>>>><<<>><<>>><<<<>>>><<<<>>>><<>>><<<<>>><<<<><<>>>><<<>>>><<<>><<<>><<>><<<<><<<<>>>><<<>>><<><>>><<><<>>>><<<>>>><<<<><<<<>>><<<<><<<>>>><<>>>><<>>><<>>><<<>><<><<<<><<>><<<<><<<><<<><<>><<<>>>><<<><<>><<>>>><<<><<<<>>><<<>>>><><><<><<<>>><<<<>>><<<>><<<>>>><>>>><<><<>><<>><>>>><<<>><<<>>><>>>><<<<>>><<<<>>><<<>>><<<>>>><<<<>>><<>>>><<<>>>><<<>>><>>>><<><<<>><<>>>><<<<>>><>>><<>>><<<<><>><<>>>><>>><<>>><<><>>><>>><><<><><<>><<<<>>>><>><<<<>>><<>>><<>><>>>><<<>>>><<<<>><<><<<<>>>><<<<><<><><<<<>><<>>>><<<><>>>><>><><<>><<<>>><<>>>><<><<<>>><<<<>>>><<<<>><<><<<>>><<<<>>>><<<>>>><<<>>>><<><<<>>>><<<<>>>><>><>>>><<>>>><<<>><<>>><<<>>>><<>>>><<<<>><>>>><<>>>><<<>>>><<<><<<>><<<<>>><><<<<><<<<>><<<>><<<>>>><<<><<><<<>><<<<>>>><<<>>><<>>><<>>><><<>>>><>>>><<><>>><><<<<>>>><>>><>>><<>><>>>><<<<>><<>><<><<<<>><<<<>>>><<<<>>>><<<><<<<>>>><<<<>>><<><<<><<><<>>><<<<>><<<>>>><<<>>>><<<>>>><<<>><>><<<><><<>>>><<<<><<<><<<<><<>>><<<>>>><<<<><<<<>><<>>>><<>><<><<<<>>>><><<<<>><<><<<>>><>>><>><>>>><<<<>><<>>>><><<<>>><<>>>><<<>>>><<<<>>><<>><<<<>><<>>>><<<>>>><<<<><>>><<<<>><<>><<<>>><><<>>><>><<<>>>><>><<<>>>><<<<><<>>>><><<<<>>><<<<>><<<>>>><<>>>><<<<>>>><<<<>><<><<<><<<>>>><<<<><<<<>>>><><>>><<>><<<>><<>><<>>>><>>><<<<><<<<>>><<>>>><<<>>>><>>>><<<<>><>>>><>>><<<>>>><>>>><<>>>><<><<>>>><>>>><><<<<><>>><<><<<>>>><>><<>>>><<<>><<>><<>>><<<><<<<>>><<<><<><>>><<><<><<<><<<>>>><<>>><<<<>><<<><>><<>>><<<<>>><>>><<>><<<>>>><>>>><<<<>><>><>><>>><<<<>><<>><><<>>><<<>>><<<><>><<<<>><<<>><<>><<<>>>><<>><<<<>>><>>><<><<>>><>>>><<><<<<>>>><<<<>>>><<>>>><<<>><<<>><<<>>>><>>><>>>><<><<<>>><<><<>>><>><<<<><<<<>>>><<<>>><>><<>>><>><>><<><<<<>><><>>><<<><<<<>>>><<<<><<<<>>><<<<>>>><<<>>>><<>>>><<<<><>>>><>>><<<<><<>><<<<><<<<>><>><<<>>><><<<<>><>>><>>><<><><<<<>><<<<>>><<<>>><>>>><<>>><<>>><<>><>>><<<>><><<>>>><><<<>><<<>>>><<<>>><>><<>>><<<<>><<<<>>>><<<<>><<<>>><<<<>>><><>>>><<>><<>>>><<<<><<<<>>>><<>><<>><>><<<<><<>>>><<<>>><>><<<<>>>><<>><<<>>>><<>>><<<><<<>><<<<><>><><<<<>>>><<<>><<<>>><<<>>>><<<>>><<<<>>>><<<>>><>><<<><<<>><><<>>>><>><>>><<<>>>><<>>>><>>>><<>>><<<<><<<<>><<<<>><<<<>>><<<<>>><<>>><><<<>>>><><<<>>><<>>>><<<<>>>><<>><>>>><<<<>><<>>><>><>>>><<>>><<<<>>>><<>>><<>>><><<<<>><<<>>><<<<>>>><>>><<><<>><>>><<>>><<><><<<><>>><<><<<>>>><>>><<<>><<>><<><<<<>><><<<<>>>><<<>><>>><>>><<<><>>>><<<><>><<<<><<<<><<<>><<>><<>><<<<>>>><<>>><<>><<<<>>>><>>><>>><<<<>>>><>><<<<>>><<>>>><<>>>><<<>><<<><<>>><>><<<<>>>><<>><<<>>><>><<<>><>>>><>>><<<>>><>><>><<<>><<<>><<<<>><<<>><<<<><>>><<<>>><<>>><<<>><<<>><>><<<<>><<>>><<<>>><<<>><<<<><<<>>>><>><<>>>><<<><>>>><<<>>>><>>><>><<>><<>>><<<<>><<<<>>>><>>><>>>><<<<><<<>><<>>>><<<<>>><><<>>>><>><<>>>><<<><<><>>>><<<>><>>><<<>>>><<<<><<>><>>><>>>><><<<>>>><<<<><><<<>>><<<>><><<<>>><<<>><<<>><<<><>>><><<<<><<<<>>>><<<><<>><<<<><<>><<<<>>>><<<<><>>>><<<><>>>><<<<>>><<<<><<><<<><<>><<>><<<<>>>><<<>>>><<<<>>>><<<>>>><<<<>>>><<<<>>>><>>><<<<>>><<<<>><>>>><>><>><>>><<>>>><>>>><<<<>><<<<>><>><<<<><<>>><<>><>>>><<<<>>><<>><<<<>>>><<<>>><>><<<<>>><<<>>><<<<>>><<<><<<<><<<<>>>><<<>><<<>>><>>><<<<>>>><<>>>><<<><<<>>><<>>>><<<>><>>><>>>><<<<>><<<>><<>>>><>>>><<<>><<><><<<<>>>><<>>><<>>>><<>>><<>>><<>>>><>><><<<<>>><<<<>>><<<>><<<<>><>>><<>>><<><<<>>>><<>><><>><<><>>><<<>><<><<<><<<>><<<<><<<<>>>><<<><<<<>>>><<<<><>><>><<<>><<<<>>>><<>>>><<>>><>>><<<>>>><<<><<><<<>><<><<>>>><<<><<<>><<<<>>>><<>>><<<<>><<>><><>><<>>><<<<>><<><<><<>>><<>>><<<<>>><<<<>><<<<><><>>><<<<><<>>>><<<<><>>><<>><<<<>><<>><<<><<<><<<<>>>><<>>><<>><>><>>>><>>>><>><<>>>><<<<>>><>><<><<<>>>><<<>>><<<>>><<><<>><<>>><<>>><<<<><<<<>>>><><<<<><<>>>><<<<><><<>>>><>><<>>>><>>>><<<>><<<<>>>><<<<>>>><<<<>>><>><<><<>>><>>>><<<>><<<>>><<>>><>>><<<>>>><>><<<>>>><<<<><<><<>>><<<<>>><<<>>>><<>>>><>><<<><<<>><<<<><><<><<<>>><<<>>><>>><>>><<<<>><<<><>>>><<<<><><<<<>>><<<>>>><<>><<<<>>>><<<>>><<<<>>>><<>>><<>>>><<<<>><><>>><>>>><<<<>>>><<<>>><<><<>><>>>><<>>>><>>>><<>>>><<<>><<<>>><<<><<>>><<<>>>><<>>>><<>>><<<<>><>><<<<><<>><<>><<>>><<<><<>>>><>>><<<<><<<<>>>><><<>>>><<<>><<>>>><<<>>><<<<>>>><<<<>>>><><>>>><<<>><<<>>><<>><<<<>>>><>>><<><<<><<<<>>>><<>>><><<<>>>><<><><>><><<>>>><<<<>>><>>><<<<>>><<>>>><<>><<<>>>><<<>>><<<<>>><<<>><<<<><>><<<><><<><<<<><<<><<<>>><<><<<>>>><<<>>><<<<>>><<<<>>>><<<>><<<<>>><<><><<<><>>><<<>>>><>>><<<<>>><<<<>>>><<<>>>><<<>><<>><<>>>><<>>><<>><><<<>>>><<<<><>>><<<<>>><<<>><<<<>><<>>>><<>>><<<>>>><<>><<<>>>><<<<>>><><>><<<>>><<<<>>><<<<>><<<>>><>>><<>><><<<>><><>>><<>><<>><<<>>>><<>>>><><>><<<>>><>><<>><<<<>>>><<>>>><<<>><<>>><>>><<<<>><<<<>>><<>>><<>>><<<<>><<>><<><<<<>>>><<>>>><>>><<>>><<>>><<<>><<<>><<<<>><<<<><>>><<<<>><<<><><<<<>>><<>>>><>>>><<>><<<<><<<<>>><<<>>><<<<>>><<<>>><<<>><<<>><>>><<>>>><<<><<<>>>><<<<>>>><>>><<><<<><><<<>><>>><<<>>>><>><<<>>>><<<><<>>')\n",
    "\n",
    "part2 = Chamber(logging = True)\n",
    "for i in range(1,big_rock_num+1):\n",
    "    part2.add_rock(Rock(i),jets,plots = False)\n",
    "    if i%100000 == 0:\n",
    "        print (\"Finished rock {}\".format(i))\n",
    "\n",
    "print(part2.bottom_index)\n",
    "print(part2.get_rock_height())"
   ]
  },
  {
   "cell_type": "code",
   "execution_count": 19,
   "id": "163a4a98",
   "metadata": {},
   "outputs": [],
   "source": [
    "hen = np.array(part2.log)\n",
    "hdf = pd.DataFrame(hen,columns = ['bottom_index','rock_position','rock_number','yloc','fall'])\n",
    "hdf['num_jets'] = hdf.fall + 1\n",
    "hdf['ending_jet_num'] = hdf.num_jets.cumsum()%len(jets.jets)"
   ]
  },
  {
   "cell_type": "code",
   "execution_count": 20,
   "id": "206bd401",
   "metadata": {},
   "outputs": [
    {
     "data": {
      "text/plain": [
       "array([1745, 1745, 1745, 1745])"
      ]
     },
     "execution_count": 20,
     "metadata": {},
     "output_type": "execute_result"
    }
   ],
   "source": [
    "np.diff(hdf[hdf.ending_jet_num == 0].index)"
   ]
  },
  {
   "cell_type": "code",
   "execution_count": 21,
   "id": "d159e91a",
   "metadata": {},
   "outputs": [],
   "source": [
    "a,b = np.unique(hdf.ending_jet_num, return_counts=True)"
   ]
  },
  {
   "cell_type": "code",
   "execution_count": 22,
   "id": "99fca6ba",
   "metadata": {},
   "outputs": [
    {
     "data": {
      "text/plain": [
       "10091"
      ]
     },
     "execution_count": 22,
     "metadata": {},
     "output_type": "execute_result"
    }
   ],
   "source": [
    "len(jets.jets)"
   ]
  },
  {
   "cell_type": "code",
   "execution_count": 23,
   "id": "5e11b3c8",
   "metadata": {},
   "outputs": [
    {
     "data": {
      "text/plain": [
       "array([    0,     6,    10, ..., 10077, 10081, 10085])"
      ]
     },
     "execution_count": 23,
     "metadata": {},
     "output_type": "execute_result"
    }
   ],
   "source": [
    "a[np.where(b > 2)]"
   ]
  },
  {
   "cell_type": "code",
   "execution_count": 24,
   "id": "69992904",
   "metadata": {},
   "outputs": [
    {
     "data": {
      "text/plain": [
       "1978"
      ]
     },
     "execution_count": 24,
     "metadata": {},
     "output_type": "execute_result"
    }
   ],
   "source": [
    "len(b)"
   ]
  },
  {
   "cell_type": "markdown",
   "id": "c0c7cee5",
   "metadata": {},
   "source": [
    "So we are looking at a potential repeat of 1745 yikes, i.e. repeating every 1745 rocks, because the index is the number of rocks that have fallen - 1."
   ]
  },
  {
   "cell_type": "code",
   "execution_count": 25,
   "id": "01a870d9",
   "metadata": {},
   "outputs": [
    {
     "data": {
      "text/html": [
       "<div>\n",
       "<style scoped>\n",
       "    .dataframe tbody tr th:only-of-type {\n",
       "        vertical-align: middle;\n",
       "    }\n",
       "\n",
       "    .dataframe tbody tr th {\n",
       "        vertical-align: top;\n",
       "    }\n",
       "\n",
       "    .dataframe thead th {\n",
       "        text-align: right;\n",
       "    }\n",
       "</style>\n",
       "<table border=\"1\" class=\"dataframe\">\n",
       "  <thead>\n",
       "    <tr style=\"text-align: right;\">\n",
       "      <th></th>\n",
       "      <th>bottom_index</th>\n",
       "      <th>rock_position</th>\n",
       "      <th>rock_number</th>\n",
       "      <th>yloc</th>\n",
       "      <th>fall</th>\n",
       "      <th>num_jets</th>\n",
       "      <th>ending_jet_num</th>\n",
       "    </tr>\n",
       "  </thead>\n",
       "  <tbody>\n",
       "    <tr>\n",
       "      <th>1738</th>\n",
       "      <td>2734</td>\n",
       "      <td>2732</td>\n",
       "      <td>4</td>\n",
       "      <td>2</td>\n",
       "      <td>5</td>\n",
       "      <td>6</td>\n",
       "      <td>0</td>\n",
       "    </tr>\n",
       "    <tr>\n",
       "      <th>3483</th>\n",
       "      <td>5484</td>\n",
       "      <td>5482</td>\n",
       "      <td>4</td>\n",
       "      <td>2</td>\n",
       "      <td>5</td>\n",
       "      <td>6</td>\n",
       "      <td>0</td>\n",
       "    </tr>\n",
       "    <tr>\n",
       "      <th>5228</th>\n",
       "      <td>8234</td>\n",
       "      <td>2232</td>\n",
       "      <td>4</td>\n",
       "      <td>2</td>\n",
       "      <td>5</td>\n",
       "      <td>6</td>\n",
       "      <td>0</td>\n",
       "    </tr>\n",
       "    <tr>\n",
       "      <th>6973</th>\n",
       "      <td>10984</td>\n",
       "      <td>4982</td>\n",
       "      <td>4</td>\n",
       "      <td>2</td>\n",
       "      <td>5</td>\n",
       "      <td>6</td>\n",
       "      <td>0</td>\n",
       "    </tr>\n",
       "    <tr>\n",
       "      <th>8718</th>\n",
       "      <td>13734</td>\n",
       "      <td>1732</td>\n",
       "      <td>4</td>\n",
       "      <td>2</td>\n",
       "      <td>5</td>\n",
       "      <td>6</td>\n",
       "      <td>0</td>\n",
       "    </tr>\n",
       "  </tbody>\n",
       "</table>\n",
       "</div>"
      ],
      "text/plain": [
       "      bottom_index  rock_position  rock_number  yloc  fall  num_jets  \\\n",
       "1738          2734           2732            4     2     5         6   \n",
       "3483          5484           5482            4     2     5         6   \n",
       "5228          8234           2232            4     2     5         6   \n",
       "6973         10984           4982            4     2     5         6   \n",
       "8718         13734           1732            4     2     5         6   \n",
       "\n",
       "      ending_jet_num  \n",
       "1738               0  \n",
       "3483               0  \n",
       "5228               0  \n",
       "6973               0  \n",
       "8718               0  "
      ]
     },
     "execution_count": 25,
     "metadata": {},
     "output_type": "execute_result"
    }
   ],
   "source": [
    "hdf[hdf.ending_jet_num == 0]"
   ]
  },
  {
   "cell_type": "code",
   "execution_count": 26,
   "id": "cfd8f9c4",
   "metadata": {},
   "outputs": [
    {
     "data": {
      "text/html": [
       "<div>\n",
       "<style scoped>\n",
       "    .dataframe tbody tr th:only-of-type {\n",
       "        vertical-align: middle;\n",
       "    }\n",
       "\n",
       "    .dataframe tbody tr th {\n",
       "        vertical-align: top;\n",
       "    }\n",
       "\n",
       "    .dataframe thead th {\n",
       "        text-align: right;\n",
       "    }\n",
       "</style>\n",
       "<table border=\"1\" class=\"dataframe\">\n",
       "  <thead>\n",
       "    <tr style=\"text-align: right;\">\n",
       "      <th></th>\n",
       "      <th>bottom_index</th>\n",
       "      <th>rock_position</th>\n",
       "      <th>rock_number</th>\n",
       "      <th>yloc</th>\n",
       "      <th>fall</th>\n",
       "      <th>num_jets</th>\n",
       "      <th>ending_jet_num</th>\n",
       "    </tr>\n",
       "  </thead>\n",
       "  <tbody>\n",
       "    <tr>\n",
       "      <th>1738</th>\n",
       "      <td>NaN</td>\n",
       "      <td>NaN</td>\n",
       "      <td>NaN</td>\n",
       "      <td>NaN</td>\n",
       "      <td>NaN</td>\n",
       "      <td>NaN</td>\n",
       "      <td>NaN</td>\n",
       "    </tr>\n",
       "    <tr>\n",
       "      <th>3483</th>\n",
       "      <td>2750.0</td>\n",
       "      <td>2750.0</td>\n",
       "      <td>0.0</td>\n",
       "      <td>0.0</td>\n",
       "      <td>0.0</td>\n",
       "      <td>0.0</td>\n",
       "      <td>0.0</td>\n",
       "    </tr>\n",
       "    <tr>\n",
       "      <th>5228</th>\n",
       "      <td>2750.0</td>\n",
       "      <td>-3250.0</td>\n",
       "      <td>0.0</td>\n",
       "      <td>0.0</td>\n",
       "      <td>0.0</td>\n",
       "      <td>0.0</td>\n",
       "      <td>0.0</td>\n",
       "    </tr>\n",
       "    <tr>\n",
       "      <th>6973</th>\n",
       "      <td>2750.0</td>\n",
       "      <td>2750.0</td>\n",
       "      <td>0.0</td>\n",
       "      <td>0.0</td>\n",
       "      <td>0.0</td>\n",
       "      <td>0.0</td>\n",
       "      <td>0.0</td>\n",
       "    </tr>\n",
       "    <tr>\n",
       "      <th>8718</th>\n",
       "      <td>2750.0</td>\n",
       "      <td>-3250.0</td>\n",
       "      <td>0.0</td>\n",
       "      <td>0.0</td>\n",
       "      <td>0.0</td>\n",
       "      <td>0.0</td>\n",
       "      <td>0.0</td>\n",
       "    </tr>\n",
       "  </tbody>\n",
       "</table>\n",
       "</div>"
      ],
      "text/plain": [
       "      bottom_index  rock_position  rock_number  yloc  fall  num_jets  \\\n",
       "1738           NaN            NaN          NaN   NaN   NaN       NaN   \n",
       "3483        2750.0         2750.0          0.0   0.0   0.0       0.0   \n",
       "5228        2750.0        -3250.0          0.0   0.0   0.0       0.0   \n",
       "6973        2750.0         2750.0          0.0   0.0   0.0       0.0   \n",
       "8718        2750.0        -3250.0          0.0   0.0   0.0       0.0   \n",
       "\n",
       "      ending_jet_num  \n",
       "1738             NaN  \n",
       "3483             0.0  \n",
       "5228             0.0  \n",
       "6973             0.0  \n",
       "8718             0.0  "
      ]
     },
     "execution_count": 26,
     "metadata": {},
     "output_type": "execute_result"
    }
   ],
   "source": [
    "hdf[hdf.ending_jet_num == 0].diff()"
   ]
  },
  {
   "cell_type": "code",
   "execution_count": 27,
   "id": "f84a1e49",
   "metadata": {},
   "outputs": [
    {
     "data": {
      "text/html": [
       "<div>\n",
       "<style scoped>\n",
       "    .dataframe tbody tr th:only-of-type {\n",
       "        vertical-align: middle;\n",
       "    }\n",
       "\n",
       "    .dataframe tbody tr th {\n",
       "        vertical-align: top;\n",
       "    }\n",
       "\n",
       "    .dataframe thead th {\n",
       "        text-align: right;\n",
       "    }\n",
       "</style>\n",
       "<table border=\"1\" class=\"dataframe\">\n",
       "  <thead>\n",
       "    <tr style=\"text-align: right;\">\n",
       "      <th></th>\n",
       "      <th>bottom_index</th>\n",
       "      <th>rock_position</th>\n",
       "      <th>rock_number</th>\n",
       "      <th>yloc</th>\n",
       "      <th>fall</th>\n",
       "      <th>num_jets</th>\n",
       "      <th>ending_jet_num</th>\n",
       "    </tr>\n",
       "  </thead>\n",
       "  <tbody>\n",
       "    <tr>\n",
       "      <th>1739</th>\n",
       "      <td>NaN</td>\n",
       "      <td>NaN</td>\n",
       "      <td>NaN</td>\n",
       "      <td>NaN</td>\n",
       "      <td>NaN</td>\n",
       "      <td>NaN</td>\n",
       "      <td>NaN</td>\n",
       "    </tr>\n",
       "    <tr>\n",
       "      <th>3484</th>\n",
       "      <td>2750.0</td>\n",
       "      <td>2750.0</td>\n",
       "      <td>0.0</td>\n",
       "      <td>0.0</td>\n",
       "      <td>0.0</td>\n",
       "      <td>0.0</td>\n",
       "      <td>0.0</td>\n",
       "    </tr>\n",
       "    <tr>\n",
       "      <th>5229</th>\n",
       "      <td>2750.0</td>\n",
       "      <td>-3250.0</td>\n",
       "      <td>0.0</td>\n",
       "      <td>0.0</td>\n",
       "      <td>0.0</td>\n",
       "      <td>0.0</td>\n",
       "      <td>0.0</td>\n",
       "    </tr>\n",
       "    <tr>\n",
       "      <th>6974</th>\n",
       "      <td>2750.0</td>\n",
       "      <td>2750.0</td>\n",
       "      <td>0.0</td>\n",
       "      <td>0.0</td>\n",
       "      <td>0.0</td>\n",
       "      <td>0.0</td>\n",
       "      <td>0.0</td>\n",
       "    </tr>\n",
       "    <tr>\n",
       "      <th>8719</th>\n",
       "      <td>2750.0</td>\n",
       "      <td>-3250.0</td>\n",
       "      <td>0.0</td>\n",
       "      <td>0.0</td>\n",
       "      <td>0.0</td>\n",
       "      <td>0.0</td>\n",
       "      <td>0.0</td>\n",
       "    </tr>\n",
       "  </tbody>\n",
       "</table>\n",
       "</div>"
      ],
      "text/plain": [
       "      bottom_index  rock_position  rock_number  yloc  fall  num_jets  \\\n",
       "1739           NaN            NaN          NaN   NaN   NaN       NaN   \n",
       "3484        2750.0         2750.0          0.0   0.0   0.0       0.0   \n",
       "5229        2750.0        -3250.0          0.0   0.0   0.0       0.0   \n",
       "6974        2750.0         2750.0          0.0   0.0   0.0       0.0   \n",
       "8719        2750.0        -3250.0          0.0   0.0   0.0       0.0   \n",
       "\n",
       "      ending_jet_num  \n",
       "1739             NaN  \n",
       "3484             0.0  \n",
       "5229             0.0  \n",
       "6974             0.0  \n",
       "8719             0.0  "
      ]
     },
     "execution_count": 27,
     "metadata": {},
     "output_type": "execute_result"
    }
   ],
   "source": [
    "hdf.loc[[x + 1 for x in hdf[hdf.ending_jet_num == 0].index.values ]].diff()"
   ]
  },
  {
   "cell_type": "code",
   "execution_count": 28,
   "id": "9931d677",
   "metadata": {},
   "outputs": [
    {
     "name": "stdout",
     "output_type": "stream",
     "text": [
      "1745\n"
     ]
    }
   ],
   "source": [
    "#Creating a function to prediction 'bottom_index'  This will only work in a limited range.\n",
    "\n",
    "ivs = hdf.iloc[:3484].bottom_index\n",
    "ref_rock = 1738\n",
    "next_rock = 3483\n",
    "print(next_rock - ref_rock)\n",
    "\n",
    "def get_rock_height(n):\n",
    "    if n < next_rock:\n",
    "        return ivs[n]\n",
    "    else:\n",
    "        cycle_len = next_rock - ref_rock\n",
    "        rounds = 0\n",
    "        cur = n\n",
    "        while cur >= next_rock:\n",
    "            rounds = rounds + 1\n",
    "            cur = cur - cycle_len\n",
    "        return ivs[cur] + rounds*(ivs[next_rock] - ivs[ref_rock]) \n",
    "                    \n"
   ]
  },
  {
   "cell_type": "code",
   "execution_count": 29,
   "id": "a3cde390",
   "metadata": {},
   "outputs": [
    {
     "data": {
      "text/plain": [
       "2750"
      ]
     },
     "execution_count": 29,
     "metadata": {},
     "output_type": "execute_result"
    }
   ],
   "source": [
    "ivs[next_rock] - ivs[ref_rock]"
   ]
  },
  {
   "cell_type": "code",
   "execution_count": 30,
   "id": "a042a2cf",
   "metadata": {},
   "outputs": [],
   "source": [
    "test = []\n",
    "for i in range(hdf.shape[0]):\n",
    "    test.append(get_rock_height(i))"
   ]
  },
  {
   "cell_type": "code",
   "execution_count": 31,
   "id": "7e3861f4",
   "metadata": {},
   "outputs": [
    {
     "data": {
      "text/plain": [
       "array([    0,     1,     3, ..., 15752, 15755, 15755])"
      ]
     },
     "execution_count": 31,
     "metadata": {},
     "output_type": "execute_result"
    }
   ],
   "source": [
    "np.array(test)"
   ]
  },
  {
   "cell_type": "code",
   "execution_count": 32,
   "id": "370f7c79",
   "metadata": {},
   "outputs": [
    {
     "data": {
      "text/plain": [
       "0"
      ]
     },
     "execution_count": 32,
     "metadata": {},
     "output_type": "execute_result"
    }
   ],
   "source": [
    "(hdf.bottom_index - np.array(test)).max()"
   ]
  },
  {
   "cell_type": "markdown",
   "id": "579a99d2",
   "metadata": {},
   "source": [
    "So the function get_rock_height seems to work.  Now to apply it to the crazy number we were given."
   ]
  },
  {
   "cell_type": "code",
   "execution_count": 33,
   "id": "0c35b704",
   "metadata": {},
   "outputs": [],
   "source": [
    "stupid_crazy_rock_num = 1000000000000"
   ]
  },
  {
   "cell_type": "code",
   "execution_count": 34,
   "id": "d05841fa",
   "metadata": {},
   "outputs": [
    {
     "data": {
      "text/plain": [
       "1575931232076"
      ]
     },
     "execution_count": 34,
     "metadata": {},
     "output_type": "execute_result"
    }
   ],
   "source": [
    "get_rock_height(stupid_crazy_rock_num)"
   ]
  },
  {
   "cell_type": "code",
   "execution_count": null,
   "id": "e21f2544",
   "metadata": {},
   "outputs": [],
   "source": []
  },
  {
   "cell_type": "markdown",
   "id": "2ef956ad",
   "metadata": {},
   "source": [
    "#### Misc. testing that have yet to remove"
   ]
  },
  {
   "cell_type": "code",
   "execution_count": 35,
   "id": "e8043fef",
   "metadata": {},
   "outputs": [
    {
     "data": {
      "image/png": "[encoded data removed]",
      "text/plain": [
       "<Figure size 432x288 with 1 Axes>"
      ]
     },
     "metadata": {
      "needs_background": "light"
     },
     "output_type": "display_data"
    },
    {
     "data": {
      "image/png": "[encoded data removed]",
      "text/plain": [
       "<Figure size 432x288 with 1 Axes>"
      ]
     },
     "metadata": {
      "needs_background": "light"
     },
     "output_type": "display_data"
    },
    {
     "data": {
      "image/png": "[encoded data removed]",
      "text/plain": [
       "<Figure size 432x288 with 1 Axes>"
      ]
     },
     "metadata": {
      "needs_background": "light"
     },
     "output_type": "display_data"
    },
    {
     "data": {
      "image/png": "[encoded data removed]",
      "text/plain": [
       "<Figure size 432x288 with 1 Axes>"
      ]
     },
     "metadata": {
      "needs_background": "light"
     },
     "output_type": "display_data"
    },
    {
     "data": {
      "image/png": "[encoded data removed]",
      "text/plain": [
       "<Figure size 432x288 with 1 Axes>"
      ]
     },
     "metadata": {
      "needs_background": "light"
     },
     "output_type": "display_data"
    },
    {
     "data": {
      "image/png": "[encoded data removed]",
      "text/plain": [
       "<Figure size 432x288 with 1 Axes>"
      ]
     },
     "metadata": {
      "needs_background": "light"
     },
     "output_type": "display_data"
    },
    {
     "name": "stdout",
     "output_type": "stream",
     "text": [
      "[[1 1 1 1 0 0 0]\n",
      " [0 0 0 0 0 0 0]\n",
      " [0 0 0 0 0 0 0]\n",
      " [0 0 0 0 0 0 0]]\n"
     ]
    },
    {
     "data": {
      "image/png": "[encoded data removed]",
      "text/plain": [
       "<Figure size 432x288 with 1 Axes>"
      ]
     },
     "metadata": {
      "needs_background": "light"
     },
     "output_type": "display_data"
    },
    {
     "data": {
      "image/png": "[encoded data removed]",
      "text/plain": [
       "<Figure size 432x288 with 1 Axes>"
      ]
     },
     "metadata": {
      "needs_background": "light"
     },
     "output_type": "display_data"
    },
    {
     "data": {
      "image/png": "[encoded data removed]",
      "text/plain": [
       "<Figure size 432x288 with 1 Axes>"
      ]
     },
     "metadata": {
      "needs_background": "light"
     },
     "output_type": "display_data"
    },
    {
     "data": {
      "image/png": "[encoded data removed]",
      "text/plain": [
       "<Figure size 432x288 with 1 Axes>"
      ]
     },
     "metadata": {
      "needs_background": "light"
     },
     "output_type": "display_data"
    },
    {
     "data": {
      "image/png": "[encoded data removed]",
      "text/plain": [
       "<Figure size 432x288 with 1 Axes>"
      ]
     },
     "metadata": {
      "needs_background": "light"
     },
     "output_type": "display_data"
    },
    {
     "data": {
      "image/png": "[encoded data removed]",
      "text/plain": [
       "<Figure size 432x288 with 1 Axes>"
      ]
     },
     "metadata": {
      "needs_background": "light"
     },
     "output_type": "display_data"
    },
    {
     "name": "stdout",
     "output_type": "stream",
     "text": [
      "[[0 1 0 0 0 0 0]\n",
      " [1 1 1 0 0 0 0]\n",
      " [0 1 0 0 0 0 0]\n",
      " [0 0 0 0 0 0 0]]\n"
     ]
    },
    {
     "data": {
      "image/png": "[encoded data removed]",
      "text/plain": [
       "<Figure size 432x288 with 1 Axes>"
      ]
     },
     "metadata": {
      "needs_background": "light"
     },
     "output_type": "display_data"
    },
    {
     "data": {
      "image/png": "[encoded data removed]",
      "text/plain": [
       "<Figure size 432x288 with 1 Axes>"
      ]
     },
     "metadata": {
      "needs_background": "light"
     },
     "output_type": "display_data"
    },
    {
     "data": {
      "image/png": "[encoded data removed]",
      "text/plain": [
       "<Figure size 432x288 with 1 Axes>"
      ]
     },
     "metadata": {
      "needs_background": "light"
     },
     "output_type": "display_data"
    },
    {
     "data": {
      "image/png": "[encoded data removed]",
      "text/plain": [
       "<Figure size 432x288 with 1 Axes>"
      ]
     },
     "metadata": {
      "needs_background": "light"
     },
     "output_type": "display_data"
    },
    {
     "data": {
      "image/png": "[encoded data removed]",
      "text/plain": [
       "<Figure size 432x288 with 1 Axes>"
      ]
     },
     "metadata": {
      "needs_background": "light"
     },
     "output_type": "display_data"
    },
    {
     "data": {
      "image/png": "[encoded data removed]",
      "text/plain": [
       "<Figure size 432x288 with 1 Axes>"
      ]
     },
     "metadata": {
      "needs_background": "light"
     },
     "output_type": "display_data"
    },
    {
     "name": "stdout",
     "output_type": "stream",
     "text": [
      "[[1 1 1 0 0 0 0]\n",
      " [0 0 1 0 0 0 0]\n",
      " [0 0 1 0 0 0 0]\n",
      " [0 0 0 0 0 0 0]]\n"
     ]
    },
    {
     "data": {
      "image/png": "[encoded data removed]",
      "text/plain": [
       "<Figure size 432x288 with 1 Axes>"
      ]
     },
     "metadata": {
      "needs_background": "light"
     },
     "output_type": "display_data"
    },
    {
     "data": {
      "image/png": "[encoded data removed]",
      "text/plain": [
       "<Figure size 432x288 with 1 Axes>"
      ]
     },
     "metadata": {
      "needs_background": "light"
     },
     "output_type": "display_data"
    },
    {
     "data": {
      "image/png": "[encoded data removed]",
      "text/plain": [
       "<Figure size 432x288 with 1 Axes>"
      ]
     },
     "metadata": {
      "needs_background": "light"
     },
     "output_type": "display_data"
    },
    {
     "data": {
      "image/png": "[encoded data removed]",
      "text/plain": [
       "<Figure size 432x288 with 1 Axes>"
      ]
     },
     "metadata": {
      "needs_background": "light"
     },
     "output_type": "display_data"
    },
    {
     "data": {
      "image/png": "[encoded data removed]",
      "text/plain": [
       "<Figure size 432x288 with 1 Axes>"
      ]
     },
     "metadata": {
      "needs_background": "light"
     },
     "output_type": "display_data"
    },
    {
     "data": {
      "image/png": "[encoded data removed]",
      "text/plain": [
       "<Figure size 432x288 with 1 Axes>"
      ]
     },
     "metadata": {
      "needs_background": "light"
     },
     "output_type": "display_data"
    },
    {
     "name": "stdout",
     "output_type": "stream",
     "text": [
      "[[1 0 0 0 0 0 0]\n",
      " [1 0 0 0 0 0 0]\n",
      " [1 0 0 0 0 0 0]\n",
      " [1 0 0 0 0 0 0]]\n"
     ]
    },
    {
     "data": {
      "image/png": "[encoded data removed]",
      "text/plain": [
       "<Figure size 432x288 with 1 Axes>"
      ]
     },
     "metadata": {
      "needs_background": "light"
     },
     "output_type": "display_data"
    },
    {
     "data": {
      "image/png": "[encoded data removed]",
      "text/plain": [
       "<Figure size 432x288 with 1 Axes>"
      ]
     },
     "metadata": {
      "needs_background": "light"
     },
     "output_type": "display_data"
    },
    {
     "data": {
      "image/png": "[encoded data removed]",
      "text/plain": [
       "<Figure size 432x288 with 1 Axes>"
      ]
     },
     "metadata": {
      "needs_background": "light"
     },
     "output_type": "display_data"
    },
    {
     "data": {
      "image/png": "[encoded data removed]",
      "text/plain": [
       "<Figure size 432x288 with 1 Axes>"
      ]
     },
     "metadata": {
      "needs_background": "light"
     },
     "output_type": "display_data"
    },
    {
     "data": {
      "image/png": "[encoded data removed]",
      "text/plain": [
       "<Figure size 432x288 with 1 Axes>"
      ]
     },
     "metadata": {
      "needs_background": "light"
     },
     "output_type": "display_data"
    },
    {
     "data": {
      "image/png": "[encoded data removed]",
      "text/plain": [
       "<Figure size 432x288 with 1 Axes>"
      ]
     },
     "metadata": {
      "needs_background": "light"
     },
     "output_type": "display_data"
    },
    {
     "name": "stdout",
     "output_type": "stream",
     "text": [
      "[[1 1 0 0 0 0 0]\n",
      " [1 1 0 0 0 0 0]\n",
      " [0 0 0 0 0 0 0]\n",
      " [0 0 0 0 0 0 0]]\n"
     ]
    }
   ],
   "source": [
    "je = Jets('<<<><')\n",
    "\n",
    "for i in range(1,6):\n",
    "    tt = Rock(i)\n",
    "    tt.plot()\n",
    "    for i in range(5):\n",
    "        tt.apply_jet(je.get_next_jet())\n",
    "        tt.plot()\n",
    "    print(tt)"
   ]
  },
  {
   "cell_type": "code",
   "execution_count": 36,
   "id": "265aa714",
   "metadata": {},
   "outputs": [
    {
     "data": {
      "text/plain": [
       "[[1 1 0 0 0 0 0]\n",
       " [1 1 0 0 0 0 0]\n",
       " [0 0 0 0 0 0 0]\n",
       " [0 0 0 0 0 0 0]]"
      ]
     },
     "execution_count": 36,
     "metadata": {},
     "output_type": "execute_result"
    }
   ],
   "source": [
    "tt"
   ]
  },
  {
   "cell_type": "code",
   "execution_count": 37,
   "id": "76de80da",
   "metadata": {},
   "outputs": [
    {
     "data": {
      "text/plain": [
       "0"
      ]
     },
     "execution_count": 37,
     "metadata": {},
     "output_type": "execute_result"
    }
   ],
   "source": [
    "np.where(tt.rock.sum(axis = 0)>0)[0][0]"
   ]
  },
  {
   "cell_type": "code",
   "execution_count": null,
   "id": "a998b3a4",
   "metadata": {},
   "outputs": [],
   "source": []
  }
 ],
 "metadata": {
  "kernelspec": {
   "display_name": "Python 3 (ipykernel)",
   "language": "python",
   "name": "python3"
  },
  "language_info": {
   "codemirror_mode": {
    "name": "ipython",
    "version": 3
   },
   "file_extension": ".py",
   "mimetype": "text/x-python",
   "name": "python",
   "nbconvert_exporter": "python",
   "pygments_lexer": "ipython3",
   "version": "3.8.2"
  }
 },
 "nbformat": 4,
 "nbformat_minor": 5
}
